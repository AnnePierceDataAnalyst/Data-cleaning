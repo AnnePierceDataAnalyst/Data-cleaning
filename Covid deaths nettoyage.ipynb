{
 "cells": [
  {
   "cell_type": "markdown",
   "metadata": {},
   "source": [
    "### Pourquoi ce projet ?"
   ]
  },
  {
   "cell_type": "raw",
   "metadata": {},
   "source": [
    "Bonjour,\n",
    "\n",
    "Dans quel pays meurt-on le plus du Covid ? \n",
    "\n",
    "Ce dataset a pour but de présenter la mortalité Covid en nombre de MORTS PAR MILLIONS D'HABITANTS d'un pays. En effet, les media privilégient le nombre de morts, sans prendre en compte la taille de la population. Cette unité pénalise les pays très peuplés et ne permet pas de se faire une idée de l'efficacité des politiques sanitaires."
   ]
  },
  {
   "cell_type": "markdown",
   "metadata": {},
   "source": [
    "### Compétences mises en oeuvre"
   ]
  },
  {
   "cell_type": "raw",
   "metadata": {},
   "source": [
    "Ce projet a demandé pas mal de data cleaning car les données viennent de 3 organisations différentes (OMS, FAO, OCDE), chacune nommant les pays à sa guise, comptant à sa façon (000 hab, 000 000 hab), etc.\n",
    "Il y avait également des données manquantes (création de lignes) et des pays à éliminer au vu du manque de fiabilité de leurs données, bref une grande variété de cas de figure.\n",
    "\n",
    "Les résultats sont présentés dans l'article suivant:\n",
    "https://www.linkedin.com/pulse/dans-quel-pays-meurt-on-le-plus-du-covid-anne-pierce/?trackingId=w%2BnMu5jPi42kB1r%2Bz2UpNA%3D%3D"
   ]
  },
  {
   "cell_type": "markdown",
   "metadata": {},
   "source": [
    "# Préparer la table OMS "
   ]
  },
  {
   "cell_type": "code",
   "execution_count": 2,
   "metadata": {},
   "outputs": [],
   "source": [
    "import pandas as pd\n",
    "import numpy as np\n",
    "from matplotlib import pyplot as plt"
   ]
  },
  {
   "cell_type": "code",
   "execution_count": 3,
   "metadata": {},
   "outputs": [
    {
     "data": {
      "text/html": [
       "<div>\n",
       "<style scoped>\n",
       "    .dataframe tbody tr th:only-of-type {\n",
       "        vertical-align: middle;\n",
       "    }\n",
       "\n",
       "    .dataframe tbody tr th {\n",
       "        vertical-align: top;\n",
       "    }\n",
       "\n",
       "    .dataframe thead th {\n",
       "        text-align: right;\n",
       "    }\n",
       "</style>\n",
       "<table border=\"1\" class=\"dataframe\">\n",
       "  <thead>\n",
       "    <tr style=\"text-align: right;\">\n",
       "      <th></th>\n",
       "      <th>Date_reported</th>\n",
       "      <th>Country_code</th>\n",
       "      <th>Country</th>\n",
       "      <th>WHO_region</th>\n",
       "      <th>New_cases</th>\n",
       "      <th>Cumulative_cases</th>\n",
       "      <th>New_deaths</th>\n",
       "      <th>Cumulative_deaths</th>\n",
       "    </tr>\n",
       "  </thead>\n",
       "  <tbody>\n",
       "    <tr>\n",
       "      <th>0</th>\n",
       "      <td>2020-01-03</td>\n",
       "      <td>AF</td>\n",
       "      <td>Afghanistan</td>\n",
       "      <td>EMRO</td>\n",
       "      <td>0</td>\n",
       "      <td>0</td>\n",
       "      <td>0</td>\n",
       "      <td>0</td>\n",
       "    </tr>\n",
       "    <tr>\n",
       "      <th>69120</th>\n",
       "      <td>2020-01-03</td>\n",
       "      <td>IN</td>\n",
       "      <td>India</td>\n",
       "      <td>SEARO</td>\n",
       "      <td>0</td>\n",
       "      <td>0</td>\n",
       "      <td>0</td>\n",
       "      <td>0</td>\n",
       "    </tr>\n",
       "    <tr>\n",
       "      <th>101520</th>\n",
       "      <td>2020-01-03</td>\n",
       "      <td>MZ</td>\n",
       "      <td>Mozambique</td>\n",
       "      <td>AFRO</td>\n",
       "      <td>0</td>\n",
       "      <td>0</td>\n",
       "      <td>0</td>\n",
       "      <td>0</td>\n",
       "    </tr>\n",
       "    <tr>\n",
       "      <th>28080</th>\n",
       "      <td>2020-01-03</td>\n",
       "      <td>CF</td>\n",
       "      <td>Central African Republic</td>\n",
       "      <td>AFRO</td>\n",
       "      <td>0</td>\n",
       "      <td>0</td>\n",
       "      <td>0</td>\n",
       "      <td>0</td>\n",
       "    </tr>\n",
       "    <tr>\n",
       "      <th>155520</th>\n",
       "      <td>2020-01-03</td>\n",
       "      <td>TT</td>\n",
       "      <td>Trinidad and Tobago</td>\n",
       "      <td>AMRO</td>\n",
       "      <td>0</td>\n",
       "      <td>0</td>\n",
       "      <td>0</td>\n",
       "      <td>0</td>\n",
       "    </tr>\n",
       "    <tr>\n",
       "      <th>...</th>\n",
       "      <td>...</td>\n",
       "      <td>...</td>\n",
       "      <td>...</td>\n",
       "      <td>...</td>\n",
       "      <td>...</td>\n",
       "      <td>...</td>\n",
       "      <td>...</td>\n",
       "      <td>...</td>\n",
       "    </tr>\n",
       "    <tr>\n",
       "      <th>133199</th>\n",
       "      <td>2021-12-22</td>\n",
       "      <td>VC</td>\n",
       "      <td>Saint Vincent and the Grenadines</td>\n",
       "      <td>AMRO</td>\n",
       "      <td>8</td>\n",
       "      <td>5784</td>\n",
       "      <td>2</td>\n",
       "      <td>79</td>\n",
       "    </tr>\n",
       "    <tr>\n",
       "      <th>36719</th>\n",
       "      <td>2021-12-22</td>\n",
       "      <td>CU</td>\n",
       "      <td>Cuba</td>\n",
       "      <td>AMRO</td>\n",
       "      <td>61</td>\n",
       "      <td>964237</td>\n",
       "      <td>1</td>\n",
       "      <td>8316</td>\n",
       "    </tr>\n",
       "    <tr>\n",
       "      <th>133919</th>\n",
       "      <td>2021-12-22</td>\n",
       "      <td>WS</td>\n",
       "      <td>Samoa</td>\n",
       "      <td>WPRO</td>\n",
       "      <td>0</td>\n",
       "      <td>2</td>\n",
       "      <td>0</td>\n",
       "      <td>0</td>\n",
       "    </tr>\n",
       "    <tr>\n",
       "      <th>38879</th>\n",
       "      <td>2021-12-22</td>\n",
       "      <td>CZ</td>\n",
       "      <td>Czechia</td>\n",
       "      <td>EURO</td>\n",
       "      <td>11854</td>\n",
       "      <td>2427478</td>\n",
       "      <td>93</td>\n",
       "      <td>35494</td>\n",
       "    </tr>\n",
       "    <tr>\n",
       "      <th>170639</th>\n",
       "      <td>2021-12-22</td>\n",
       "      <td>ZW</td>\n",
       "      <td>Zimbabwe</td>\n",
       "      <td>AFRO</td>\n",
       "      <td>2689</td>\n",
       "      <td>197768</td>\n",
       "      <td>14</td>\n",
       "      <td>4819</td>\n",
       "    </tr>\n",
       "  </tbody>\n",
       "</table>\n",
       "<p>170640 rows × 8 columns</p>\n",
       "</div>"
      ],
      "text/plain": [
       "       Date_reported Country_code                           Country  \\\n",
       "0         2020-01-03           AF                       Afghanistan   \n",
       "69120     2020-01-03           IN                             India   \n",
       "101520    2020-01-03           MZ                        Mozambique   \n",
       "28080     2020-01-03           CF          Central African Republic   \n",
       "155520    2020-01-03           TT               Trinidad and Tobago   \n",
       "...              ...          ...                               ...   \n",
       "133199    2021-12-22           VC  Saint Vincent and the Grenadines   \n",
       "36719     2021-12-22           CU                              Cuba   \n",
       "133919    2021-12-22           WS                             Samoa   \n",
       "38879     2021-12-22           CZ                           Czechia   \n",
       "170639    2021-12-22           ZW                          Zimbabwe   \n",
       "\n",
       "       WHO_region  New_cases  Cumulative_cases  New_deaths  Cumulative_deaths  \n",
       "0            EMRO          0                 0           0                  0  \n",
       "69120       SEARO          0                 0           0                  0  \n",
       "101520       AFRO          0                 0           0                  0  \n",
       "28080        AFRO          0                 0           0                  0  \n",
       "155520       AMRO          0                 0           0                  0  \n",
       "...           ...        ...               ...         ...                ...  \n",
       "133199       AMRO          8              5784           2                 79  \n",
       "36719        AMRO         61            964237           1               8316  \n",
       "133919       WPRO          0                 2           0                  0  \n",
       "38879        EURO      11854           2427478          93              35494  \n",
       "170639       AFRO       2689            197768          14               4819  \n",
       "\n",
       "[170640 rows x 8 columns]"
      ]
     },
     "execution_count": 3,
     "metadata": {},
     "output_type": "execute_result"
    }
   ],
   "source": [
    "# Importer les données provenant de l'OMS (Organisation Mondiale de la Santé)\n",
    "# 1ère exploration des colonnes\n",
    "WHO = pd.read_csv('S1 WHO-COVID-19-global-data.csv')\n",
    "WHO.sort_values(by='Date_reported')"
   ]
  },
  {
   "cell_type": "raw",
   "metadata": {},
   "source": [
    "Nous avons donc des données journalières, du 3 janvier 2020 au 22 décembre 2021"
   ]
  },
  {
   "cell_type": "code",
   "execution_count": 4,
   "metadata": {},
   "outputs": [
    {
     "data": {
      "text/plain": [
       "Date_reported        object\n",
       "Country_code         object\n",
       "Country              object\n",
       "WHO_region           object\n",
       "New_cases             int64\n",
       "Cumulative_cases      int64\n",
       "New_deaths            int64\n",
       "Cumulative_deaths     int64\n",
       "dtype: object"
      ]
     },
     "execution_count": 4,
     "metadata": {},
     "output_type": "execute_result"
    }
   ],
   "source": [
    "WHO.dtypes"
   ]
  },
  {
   "cell_type": "code",
   "execution_count": 5,
   "metadata": {},
   "outputs": [
    {
     "data": {
      "text/html": [
       "<div>\n",
       "<style scoped>\n",
       "    .dataframe tbody tr th:only-of-type {\n",
       "        vertical-align: middle;\n",
       "    }\n",
       "\n",
       "    .dataframe tbody tr th {\n",
       "        vertical-align: top;\n",
       "    }\n",
       "\n",
       "    .dataframe thead th {\n",
       "        text-align: right;\n",
       "    }\n",
       "</style>\n",
       "<table border=\"1\" class=\"dataframe\">\n",
       "  <thead>\n",
       "    <tr style=\"text-align: right;\">\n",
       "      <th></th>\n",
       "      <th>Date_reported</th>\n",
       "      <th>Country_code</th>\n",
       "      <th>Country</th>\n",
       "      <th>WHO_region</th>\n",
       "      <th>New_cases</th>\n",
       "      <th>Cumulative_cases</th>\n",
       "      <th>New_deaths</th>\n",
       "      <th>Cumulative_deaths</th>\n",
       "    </tr>\n",
       "  </thead>\n",
       "  <tbody>\n",
       "    <tr>\n",
       "      <th>0</th>\n",
       "      <td>2020-01-03</td>\n",
       "      <td>AF</td>\n",
       "      <td>Afghanistan</td>\n",
       "      <td>Moyen Orient</td>\n",
       "      <td>0</td>\n",
       "      <td>0</td>\n",
       "      <td>0</td>\n",
       "      <td>0</td>\n",
       "    </tr>\n",
       "    <tr>\n",
       "      <th>1</th>\n",
       "      <td>2020-01-04</td>\n",
       "      <td>AF</td>\n",
       "      <td>Afghanistan</td>\n",
       "      <td>Moyen Orient</td>\n",
       "      <td>0</td>\n",
       "      <td>0</td>\n",
       "      <td>0</td>\n",
       "      <td>0</td>\n",
       "    </tr>\n",
       "    <tr>\n",
       "      <th>2</th>\n",
       "      <td>2020-01-05</td>\n",
       "      <td>AF</td>\n",
       "      <td>Afghanistan</td>\n",
       "      <td>Moyen Orient</td>\n",
       "      <td>0</td>\n",
       "      <td>0</td>\n",
       "      <td>0</td>\n",
       "      <td>0</td>\n",
       "    </tr>\n",
       "    <tr>\n",
       "      <th>3</th>\n",
       "      <td>2020-01-06</td>\n",
       "      <td>AF</td>\n",
       "      <td>Afghanistan</td>\n",
       "      <td>Moyen Orient</td>\n",
       "      <td>0</td>\n",
       "      <td>0</td>\n",
       "      <td>0</td>\n",
       "      <td>0</td>\n",
       "    </tr>\n",
       "    <tr>\n",
       "      <th>4</th>\n",
       "      <td>2020-01-07</td>\n",
       "      <td>AF</td>\n",
       "      <td>Afghanistan</td>\n",
       "      <td>Moyen Orient</td>\n",
       "      <td>0</td>\n",
       "      <td>0</td>\n",
       "      <td>0</td>\n",
       "      <td>0</td>\n",
       "    </tr>\n",
       "    <tr>\n",
       "      <th>...</th>\n",
       "      <td>...</td>\n",
       "      <td>...</td>\n",
       "      <td>...</td>\n",
       "      <td>...</td>\n",
       "      <td>...</td>\n",
       "      <td>...</td>\n",
       "      <td>...</td>\n",
       "      <td>...</td>\n",
       "    </tr>\n",
       "    <tr>\n",
       "      <th>170635</th>\n",
       "      <td>2021-12-18</td>\n",
       "      <td>ZW</td>\n",
       "      <td>Zimbabwe</td>\n",
       "      <td>Afrique</td>\n",
       "      <td>3263</td>\n",
       "      <td>189567</td>\n",
       "      <td>8</td>\n",
       "      <td>4779</td>\n",
       "    </tr>\n",
       "    <tr>\n",
       "      <th>170636</th>\n",
       "      <td>2021-12-19</td>\n",
       "      <td>ZW</td>\n",
       "      <td>Zimbabwe</td>\n",
       "      <td>Afrique</td>\n",
       "      <td>2106</td>\n",
       "      <td>191673</td>\n",
       "      <td>3</td>\n",
       "      <td>4782</td>\n",
       "    </tr>\n",
       "    <tr>\n",
       "      <th>170637</th>\n",
       "      <td>2021-12-20</td>\n",
       "      <td>ZW</td>\n",
       "      <td>Zimbabwe</td>\n",
       "      <td>Afrique</td>\n",
       "      <td>1123</td>\n",
       "      <td>192796</td>\n",
       "      <td>5</td>\n",
       "      <td>4787</td>\n",
       "    </tr>\n",
       "    <tr>\n",
       "      <th>170638</th>\n",
       "      <td>2021-12-21</td>\n",
       "      <td>ZW</td>\n",
       "      <td>Zimbabwe</td>\n",
       "      <td>Afrique</td>\n",
       "      <td>2283</td>\n",
       "      <td>195079</td>\n",
       "      <td>18</td>\n",
       "      <td>4805</td>\n",
       "    </tr>\n",
       "    <tr>\n",
       "      <th>170639</th>\n",
       "      <td>2021-12-22</td>\n",
       "      <td>ZW</td>\n",
       "      <td>Zimbabwe</td>\n",
       "      <td>Afrique</td>\n",
       "      <td>2689</td>\n",
       "      <td>197768</td>\n",
       "      <td>14</td>\n",
       "      <td>4819</td>\n",
       "    </tr>\n",
       "  </tbody>\n",
       "</table>\n",
       "<p>170640 rows × 8 columns</p>\n",
       "</div>"
      ],
      "text/plain": [
       "       Date_reported Country_code      Country    WHO_region  New_cases  \\\n",
       "0         2020-01-03           AF  Afghanistan  Moyen Orient          0   \n",
       "1         2020-01-04           AF  Afghanistan  Moyen Orient          0   \n",
       "2         2020-01-05           AF  Afghanistan  Moyen Orient          0   \n",
       "3         2020-01-06           AF  Afghanistan  Moyen Orient          0   \n",
       "4         2020-01-07           AF  Afghanistan  Moyen Orient          0   \n",
       "...              ...          ...          ...           ...        ...   \n",
       "170635    2021-12-18           ZW     Zimbabwe       Afrique       3263   \n",
       "170636    2021-12-19           ZW     Zimbabwe       Afrique       2106   \n",
       "170637    2021-12-20           ZW     Zimbabwe       Afrique       1123   \n",
       "170638    2021-12-21           ZW     Zimbabwe       Afrique       2283   \n",
       "170639    2021-12-22           ZW     Zimbabwe       Afrique       2689   \n",
       "\n",
       "        Cumulative_cases  New_deaths  Cumulative_deaths  \n",
       "0                      0           0                  0  \n",
       "1                      0           0                  0  \n",
       "2                      0           0                  0  \n",
       "3                      0           0                  0  \n",
       "4                      0           0                  0  \n",
       "...                  ...         ...                ...  \n",
       "170635            189567           8               4779  \n",
       "170636            191673           3               4782  \n",
       "170637            192796           5               4787  \n",
       "170638            195079          18               4805  \n",
       "170639            197768          14               4819  \n",
       "\n",
       "[170640 rows x 8 columns]"
      ]
     },
     "execution_count": 5,
     "metadata": {},
     "output_type": "execute_result"
    }
   ],
   "source": [
    "# Remplacer le jargon interne à l'OMS par une formulation plus compréhensible\n",
    "dictionary = {'EMRO':'Moyen Orient', \n",
    "              'AFRO':'Afrique',\n",
    "              'EURO':'Europe + ex URSS',\n",
    "              'AMRO':'Amériques',\n",
    "              'WPRO':'Pacifique Ouest',\n",
    "              'SEARO':'Asie du SE'}\n",
    "for key in dictionary.keys():\n",
    "    WHO['WHO_region'].replace(key, dictionary[key], inplace=True)\n",
    "WHO"
   ]
  },
  {
   "cell_type": "raw",
   "metadata": {},
   "source": [
    "Pour affiner ultérieurement mon étude je décide de créer une colonne 'OCDE'. J'aurai également pu restreindre mon fichier via une jointure mais dans ce cas, les informations sur les autres pays sont perdues, obligeant à jongler entre fichiers complets et restreints."
   ]
  },
  {
   "cell_type": "markdown",
   "metadata": {},
   "source": [
    "# Créer une colonne 'OCDE'"
   ]
  },
  {
   "cell_type": "code",
   "execution_count": 6,
   "metadata": {},
   "outputs": [
    {
     "data": {
      "text/html": [
       "<div>\n",
       "<style scoped>\n",
       "    .dataframe tbody tr th:only-of-type {\n",
       "        vertical-align: middle;\n",
       "    }\n",
       "\n",
       "    .dataframe tbody tr th {\n",
       "        vertical-align: top;\n",
       "    }\n",
       "\n",
       "    .dataframe thead th {\n",
       "        text-align: right;\n",
       "    }\n",
       "</style>\n",
       "<table border=\"1\" class=\"dataframe\">\n",
       "  <thead>\n",
       "    <tr style=\"text-align: right;\">\n",
       "      <th></th>\n",
       "      <th>Pays de l'OCDE</th>\n",
       "    </tr>\n",
       "  </thead>\n",
       "  <tbody>\n",
       "    <tr>\n",
       "      <th>0</th>\n",
       "      <td>AUSTRALIA</td>\n",
       "    </tr>\n",
       "    <tr>\n",
       "      <th>1</th>\n",
       "      <td>AUSTRIA</td>\n",
       "    </tr>\n",
       "    <tr>\n",
       "      <th>2</th>\n",
       "      <td>BELGIUM</td>\n",
       "    </tr>\n",
       "    <tr>\n",
       "      <th>3</th>\n",
       "      <td>CANADA</td>\n",
       "    </tr>\n",
       "    <tr>\n",
       "      <th>4</th>\n",
       "      <td>CHILE</td>\n",
       "    </tr>\n",
       "  </tbody>\n",
       "</table>\n",
       "</div>"
      ],
      "text/plain": [
       "  Pays de l'OCDE\n",
       "0      AUSTRALIA\n",
       "1        AUSTRIA\n",
       "2        BELGIUM\n",
       "3         CANADA\n",
       "4          CHILE"
      ]
     },
     "execution_count": 6,
     "metadata": {},
     "output_type": "execute_result"
    }
   ],
   "source": [
    "# Upload\n",
    "OCDE=pd.read_csv('OCDE.csv')\n",
    "OCDE.head()"
   ]
  },
  {
   "cell_type": "code",
   "execution_count": 7,
   "metadata": {},
   "outputs": [
    {
     "data": {
      "text/html": [
       "<div>\n",
       "<style scoped>\n",
       "    .dataframe tbody tr th:only-of-type {\n",
       "        vertical-align: middle;\n",
       "    }\n",
       "\n",
       "    .dataframe tbody tr th {\n",
       "        vertical-align: top;\n",
       "    }\n",
       "\n",
       "    .dataframe thead th {\n",
       "        text-align: right;\n",
       "    }\n",
       "</style>\n",
       "<table border=\"1\" class=\"dataframe\">\n",
       "  <thead>\n",
       "    <tr style=\"text-align: right;\">\n",
       "      <th></th>\n",
       "      <th>Pays de l'OCDE</th>\n",
       "      <th>Pays</th>\n",
       "    </tr>\n",
       "  </thead>\n",
       "  <tbody>\n",
       "    <tr>\n",
       "      <th>0</th>\n",
       "      <td>AUSTRALIA</td>\n",
       "      <td>Australia</td>\n",
       "    </tr>\n",
       "    <tr>\n",
       "      <th>1</th>\n",
       "      <td>AUSTRIA</td>\n",
       "      <td>Austria</td>\n",
       "    </tr>\n",
       "    <tr>\n",
       "      <th>2</th>\n",
       "      <td>BELGIUM</td>\n",
       "      <td>Belgium</td>\n",
       "    </tr>\n",
       "    <tr>\n",
       "      <th>3</th>\n",
       "      <td>CANADA</td>\n",
       "      <td>Canada</td>\n",
       "    </tr>\n",
       "    <tr>\n",
       "      <th>4</th>\n",
       "      <td>CHILE</td>\n",
       "      <td>Chile</td>\n",
       "    </tr>\n",
       "  </tbody>\n",
       "</table>\n",
       "</div>"
      ],
      "text/plain": [
       "  Pays de l'OCDE       Pays\n",
       "0      AUSTRALIA  Australia\n",
       "1        AUSTRIA    Austria\n",
       "2        BELGIUM    Belgium\n",
       "3         CANADA     Canada\n",
       "4          CHILE      Chile"
      ]
     },
     "execution_count": 7,
     "metadata": {},
     "output_type": "execute_result"
    }
   ],
   "source": [
    "# A l'OCDE, ils aiment les majuscules ... Mettre au format une majuscule puis des minuscules\n",
    "OCDE['Pays'] = OCDE[\"Pays de l'OCDE\"].str.title()\n",
    "OCDE.head()"
   ]
  },
  {
   "cell_type": "code",
   "execution_count": 8,
   "metadata": {},
   "outputs": [
    {
     "data": {
      "text/plain": [
       "['Australia',\n",
       " 'Austria',\n",
       " 'Belgium',\n",
       " 'Canada',\n",
       " 'Chile',\n",
       " 'Colombia',\n",
       " 'Costa Rica',\n",
       " 'Czech Republic',\n",
       " 'Denmark',\n",
       " 'Estonia',\n",
       " 'Finland',\n",
       " 'France',\n",
       " 'Germany',\n",
       " 'Greece',\n",
       " 'Hungary',\n",
       " 'Iceland',\n",
       " 'Ireland',\n",
       " 'Israel',\n",
       " 'Italy',\n",
       " 'Japan',\n",
       " 'Korea',\n",
       " 'Latvia',\n",
       " 'Lithuania',\n",
       " 'Luxembourg',\n",
       " 'Mexico',\n",
       " 'Netherlands',\n",
       " 'New Zealand',\n",
       " 'Norway',\n",
       " 'Poland',\n",
       " 'Portugal',\n",
       " 'Slovak Republic',\n",
       " 'Slovenia',\n",
       " 'Spain',\n",
       " 'Sweden',\n",
       " 'Switzerland',\n",
       " 'Turkey',\n",
       " 'United Kingdom',\n",
       " 'United States']"
      ]
     },
     "execution_count": 8,
     "metadata": {},
     "output_type": "execute_result"
    }
   ],
   "source": [
    "# transformer la colonne en liste (vous comprendrez plus tard pourquoi, peut-être même avez-vous déjà compris)\n",
    "ListOCDE = OCDE[\"Pays\"].to_list()\n",
    "ListOCDE"
   ]
  },
  {
   "cell_type": "code",
   "execution_count": 9,
   "metadata": {},
   "outputs": [
    {
     "data": {
      "text/html": [
       "<div>\n",
       "<style scoped>\n",
       "    .dataframe tbody tr th:only-of-type {\n",
       "        vertical-align: middle;\n",
       "    }\n",
       "\n",
       "    .dataframe tbody tr th {\n",
       "        vertical-align: top;\n",
       "    }\n",
       "\n",
       "    .dataframe thead th {\n",
       "        text-align: right;\n",
       "    }\n",
       "</style>\n",
       "<table border=\"1\" class=\"dataframe\">\n",
       "  <thead>\n",
       "    <tr style=\"text-align: right;\">\n",
       "      <th></th>\n",
       "      <th>Date_reported</th>\n",
       "      <th>Country_code</th>\n",
       "      <th>Country</th>\n",
       "      <th>WHO_region</th>\n",
       "      <th>New_cases</th>\n",
       "      <th>Cumulative_cases</th>\n",
       "      <th>New_deaths</th>\n",
       "      <th>Cumulative_deaths</th>\n",
       "      <th>OCDE</th>\n",
       "    </tr>\n",
       "  </thead>\n",
       "  <tbody>\n",
       "    <tr>\n",
       "      <th>0</th>\n",
       "      <td>2020-01-03</td>\n",
       "      <td>AF</td>\n",
       "      <td>Afghanistan</td>\n",
       "      <td>Moyen Orient</td>\n",
       "      <td>0</td>\n",
       "      <td>0</td>\n",
       "      <td>0</td>\n",
       "      <td>0</td>\n",
       "      <td></td>\n",
       "    </tr>\n",
       "    <tr>\n",
       "      <th>1</th>\n",
       "      <td>2020-01-04</td>\n",
       "      <td>AF</td>\n",
       "      <td>Afghanistan</td>\n",
       "      <td>Moyen Orient</td>\n",
       "      <td>0</td>\n",
       "      <td>0</td>\n",
       "      <td>0</td>\n",
       "      <td>0</td>\n",
       "      <td></td>\n",
       "    </tr>\n",
       "    <tr>\n",
       "      <th>2</th>\n",
       "      <td>2020-01-05</td>\n",
       "      <td>AF</td>\n",
       "      <td>Afghanistan</td>\n",
       "      <td>Moyen Orient</td>\n",
       "      <td>0</td>\n",
       "      <td>0</td>\n",
       "      <td>0</td>\n",
       "      <td>0</td>\n",
       "      <td></td>\n",
       "    </tr>\n",
       "    <tr>\n",
       "      <th>3</th>\n",
       "      <td>2020-01-06</td>\n",
       "      <td>AF</td>\n",
       "      <td>Afghanistan</td>\n",
       "      <td>Moyen Orient</td>\n",
       "      <td>0</td>\n",
       "      <td>0</td>\n",
       "      <td>0</td>\n",
       "      <td>0</td>\n",
       "      <td></td>\n",
       "    </tr>\n",
       "    <tr>\n",
       "      <th>4</th>\n",
       "      <td>2020-01-07</td>\n",
       "      <td>AF</td>\n",
       "      <td>Afghanistan</td>\n",
       "      <td>Moyen Orient</td>\n",
       "      <td>0</td>\n",
       "      <td>0</td>\n",
       "      <td>0</td>\n",
       "      <td>0</td>\n",
       "      <td></td>\n",
       "    </tr>\n",
       "    <tr>\n",
       "      <th>...</th>\n",
       "      <td>...</td>\n",
       "      <td>...</td>\n",
       "      <td>...</td>\n",
       "      <td>...</td>\n",
       "      <td>...</td>\n",
       "      <td>...</td>\n",
       "      <td>...</td>\n",
       "      <td>...</td>\n",
       "      <td>...</td>\n",
       "    </tr>\n",
       "    <tr>\n",
       "      <th>170635</th>\n",
       "      <td>2021-12-18</td>\n",
       "      <td>ZW</td>\n",
       "      <td>Zimbabwe</td>\n",
       "      <td>Afrique</td>\n",
       "      <td>3263</td>\n",
       "      <td>189567</td>\n",
       "      <td>8</td>\n",
       "      <td>4779</td>\n",
       "      <td></td>\n",
       "    </tr>\n",
       "    <tr>\n",
       "      <th>170636</th>\n",
       "      <td>2021-12-19</td>\n",
       "      <td>ZW</td>\n",
       "      <td>Zimbabwe</td>\n",
       "      <td>Afrique</td>\n",
       "      <td>2106</td>\n",
       "      <td>191673</td>\n",
       "      <td>3</td>\n",
       "      <td>4782</td>\n",
       "      <td></td>\n",
       "    </tr>\n",
       "    <tr>\n",
       "      <th>170637</th>\n",
       "      <td>2021-12-20</td>\n",
       "      <td>ZW</td>\n",
       "      <td>Zimbabwe</td>\n",
       "      <td>Afrique</td>\n",
       "      <td>1123</td>\n",
       "      <td>192796</td>\n",
       "      <td>5</td>\n",
       "      <td>4787</td>\n",
       "      <td></td>\n",
       "    </tr>\n",
       "    <tr>\n",
       "      <th>170638</th>\n",
       "      <td>2021-12-21</td>\n",
       "      <td>ZW</td>\n",
       "      <td>Zimbabwe</td>\n",
       "      <td>Afrique</td>\n",
       "      <td>2283</td>\n",
       "      <td>195079</td>\n",
       "      <td>18</td>\n",
       "      <td>4805</td>\n",
       "      <td></td>\n",
       "    </tr>\n",
       "    <tr>\n",
       "      <th>170639</th>\n",
       "      <td>2021-12-22</td>\n",
       "      <td>ZW</td>\n",
       "      <td>Zimbabwe</td>\n",
       "      <td>Afrique</td>\n",
       "      <td>2689</td>\n",
       "      <td>197768</td>\n",
       "      <td>14</td>\n",
       "      <td>4819</td>\n",
       "      <td></td>\n",
       "    </tr>\n",
       "  </tbody>\n",
       "</table>\n",
       "<p>170640 rows × 9 columns</p>\n",
       "</div>"
      ],
      "text/plain": [
       "       Date_reported Country_code      Country    WHO_region  New_cases  \\\n",
       "0         2020-01-03           AF  Afghanistan  Moyen Orient          0   \n",
       "1         2020-01-04           AF  Afghanistan  Moyen Orient          0   \n",
       "2         2020-01-05           AF  Afghanistan  Moyen Orient          0   \n",
       "3         2020-01-06           AF  Afghanistan  Moyen Orient          0   \n",
       "4         2020-01-07           AF  Afghanistan  Moyen Orient          0   \n",
       "...              ...          ...          ...           ...        ...   \n",
       "170635    2021-12-18           ZW     Zimbabwe       Afrique       3263   \n",
       "170636    2021-12-19           ZW     Zimbabwe       Afrique       2106   \n",
       "170637    2021-12-20           ZW     Zimbabwe       Afrique       1123   \n",
       "170638    2021-12-21           ZW     Zimbabwe       Afrique       2283   \n",
       "170639    2021-12-22           ZW     Zimbabwe       Afrique       2689   \n",
       "\n",
       "        Cumulative_cases  New_deaths  Cumulative_deaths OCDE  \n",
       "0                      0           0                  0       \n",
       "1                      0           0                  0       \n",
       "2                      0           0                  0       \n",
       "3                      0           0                  0       \n",
       "4                      0           0                  0       \n",
       "...                  ...         ...                ...  ...  \n",
       "170635            189567           8               4779       \n",
       "170636            191673           3               4782       \n",
       "170637            192796           5               4787       \n",
       "170638            195079          18               4805       \n",
       "170639            197768          14               4819       \n",
       "\n",
       "[170640 rows x 9 columns]"
      ]
     },
     "execution_count": 9,
     "metadata": {},
     "output_type": "execute_result"
    }
   ],
   "source": [
    "# Création d'une colonne vide 'OCDE' dans WHO\n",
    "WHO['OCDE'] = ''\n",
    "\n",
    "# Remplissage de la colonne\n",
    "for item in ListOCDE:                             \n",
    "    WHO['OCDE'] = np.where(WHO['Country'].str.contains(item), 'OCDE', WHO['OCDE'])\n",
    "WHO\n"
   ]
  },
  {
   "cell_type": "markdown",
   "metadata": {},
   "source": [
    "# Table FAO "
   ]
  },
  {
   "cell_type": "code",
   "execution_count": 10,
   "metadata": {},
   "outputs": [
    {
     "data": {
      "text/html": [
       "<div>\n",
       "<style scoped>\n",
       "    .dataframe tbody tr th:only-of-type {\n",
       "        vertical-align: middle;\n",
       "    }\n",
       "\n",
       "    .dataframe tbody tr th {\n",
       "        vertical-align: top;\n",
       "    }\n",
       "\n",
       "    .dataframe thead th {\n",
       "        text-align: right;\n",
       "    }\n",
       "</style>\n",
       "<table border=\"1\" class=\"dataframe\">\n",
       "  <thead>\n",
       "    <tr style=\"text-align: right;\">\n",
       "      <th></th>\n",
       "      <th>Domain Code</th>\n",
       "      <th>Domain</th>\n",
       "      <th>Area Code (FAO)</th>\n",
       "      <th>Area</th>\n",
       "      <th>Element Code</th>\n",
       "      <th>Element</th>\n",
       "      <th>Item Code</th>\n",
       "      <th>Item</th>\n",
       "      <th>Year Code</th>\n",
       "      <th>Year</th>\n",
       "      <th>Unit</th>\n",
       "      <th>Value</th>\n",
       "      <th>Flag</th>\n",
       "      <th>Flag Description</th>\n",
       "      <th>Note</th>\n",
       "    </tr>\n",
       "  </thead>\n",
       "  <tbody>\n",
       "    <tr>\n",
       "      <th>0</th>\n",
       "      <td>OA</td>\n",
       "      <td>Annual population</td>\n",
       "      <td>2</td>\n",
       "      <td>Afghanistan</td>\n",
       "      <td>511</td>\n",
       "      <td>Total Population - Both sexes</td>\n",
       "      <td>3010</td>\n",
       "      <td>Population - Est. &amp; Proj.</td>\n",
       "      <td>2018</td>\n",
       "      <td>2018</td>\n",
       "      <td>1000 persons</td>\n",
       "      <td>37171.921</td>\n",
       "      <td>X</td>\n",
       "      <td>International reliable sources</td>\n",
       "      <td>NaN</td>\n",
       "    </tr>\n",
       "    <tr>\n",
       "      <th>1</th>\n",
       "      <td>OA</td>\n",
       "      <td>Annual population</td>\n",
       "      <td>3</td>\n",
       "      <td>Albania</td>\n",
       "      <td>511</td>\n",
       "      <td>Total Population - Both sexes</td>\n",
       "      <td>3010</td>\n",
       "      <td>Population - Est. &amp; Proj.</td>\n",
       "      <td>2018</td>\n",
       "      <td>2018</td>\n",
       "      <td>1000 persons</td>\n",
       "      <td>2882.740</td>\n",
       "      <td>X</td>\n",
       "      <td>International reliable sources</td>\n",
       "      <td>NaN</td>\n",
       "    </tr>\n",
       "  </tbody>\n",
       "</table>\n",
       "</div>"
      ],
      "text/plain": [
       "  Domain Code             Domain  Area Code (FAO)         Area  Element Code  \\\n",
       "0          OA  Annual population                2  Afghanistan           511   \n",
       "1          OA  Annual population                3      Albania           511   \n",
       "\n",
       "                         Element  Item Code                       Item  \\\n",
       "0  Total Population - Both sexes       3010  Population - Est. & Proj.   \n",
       "1  Total Population - Both sexes       3010  Population - Est. & Proj.   \n",
       "\n",
       "   Year Code  Year          Unit      Value Flag  \\\n",
       "0       2018  2018  1000 persons  37171.921    X   \n",
       "1       2018  2018  1000 persons   2882.740    X   \n",
       "\n",
       "                 Flag Description Note  \n",
       "0  International reliable sources  NaN  \n",
       "1  International reliable sources  NaN  "
      ]
     },
     "execution_count": 10,
     "metadata": {},
     "output_type": "execute_result"
    }
   ],
   "source": [
    "# Upload\n",
    "FAO = pd.read_csv('FAOSTAT population2018.csv')\n",
    "FAO.head(2)"
   ]
  },
  {
   "cell_type": "code",
   "execution_count": 11,
   "metadata": {},
   "outputs": [
    {
     "name": "stderr",
     "output_type": "stream",
     "text": [
      "/opt/anaconda3/lib/python3.8/site-packages/pandas/core/frame.py:4296: SettingWithCopyWarning: \n",
      "A value is trying to be set on a copy of a slice from a DataFrame\n",
      "\n",
      "See the caveats in the documentation: https://pandas.pydata.org/pandas-docs/stable/user_guide/indexing.html#returning-a-view-versus-a-copy\n",
      "  return super().rename(\n"
     ]
    }
   ],
   "source": [
    "# Restreindre aux colonnes qui m'intéressent\n",
    "FAO2= FAO[['Area','Value']]\n",
    "\n",
    "# Donner un nom plus explicite à l'entête de colonne\n",
    "FAO2.rename(columns={'Value':'Population (en 000 pers)'}, inplace=True)\n"
   ]
  },
  {
   "cell_type": "markdown",
   "metadata": {},
   "source": [
    "# Jointure"
   ]
  },
  {
   "cell_type": "code",
   "execution_count": 12,
   "metadata": {},
   "outputs": [
    {
     "data": {
      "text/html": [
       "<div>\n",
       "<style scoped>\n",
       "    .dataframe tbody tr th:only-of-type {\n",
       "        vertical-align: middle;\n",
       "    }\n",
       "\n",
       "    .dataframe tbody tr th {\n",
       "        vertical-align: top;\n",
       "    }\n",
       "\n",
       "    .dataframe thead th {\n",
       "        text-align: right;\n",
       "    }\n",
       "</style>\n",
       "<table border=\"1\" class=\"dataframe\">\n",
       "  <thead>\n",
       "    <tr style=\"text-align: right;\">\n",
       "      <th></th>\n",
       "      <th>Date_reported</th>\n",
       "      <th>Country_code</th>\n",
       "      <th>Country</th>\n",
       "      <th>WHO_region</th>\n",
       "      <th>New_cases</th>\n",
       "      <th>Cumulative_cases</th>\n",
       "      <th>New_deaths</th>\n",
       "      <th>Cumulative_deaths</th>\n",
       "      <th>OCDE</th>\n",
       "      <th>Area</th>\n",
       "      <th>Population (en 000 pers)</th>\n",
       "      <th>_merge</th>\n",
       "    </tr>\n",
       "  </thead>\n",
       "  <tbody>\n",
       "    <tr>\n",
       "      <th>0</th>\n",
       "      <td>2020-01-03</td>\n",
       "      <td>AF</td>\n",
       "      <td>Afghanistan</td>\n",
       "      <td>Moyen Orient</td>\n",
       "      <td>0.0</td>\n",
       "      <td>0.0</td>\n",
       "      <td>0.0</td>\n",
       "      <td>0.0</td>\n",
       "      <td></td>\n",
       "      <td>Afghanistan</td>\n",
       "      <td>37171.921</td>\n",
       "      <td>both</td>\n",
       "    </tr>\n",
       "    <tr>\n",
       "      <th>1</th>\n",
       "      <td>2020-01-04</td>\n",
       "      <td>AF</td>\n",
       "      <td>Afghanistan</td>\n",
       "      <td>Moyen Orient</td>\n",
       "      <td>0.0</td>\n",
       "      <td>0.0</td>\n",
       "      <td>0.0</td>\n",
       "      <td>0.0</td>\n",
       "      <td></td>\n",
       "      <td>Afghanistan</td>\n",
       "      <td>37171.921</td>\n",
       "      <td>both</td>\n",
       "    </tr>\n",
       "  </tbody>\n",
       "</table>\n",
       "</div>"
      ],
      "text/plain": [
       "  Date_reported Country_code      Country    WHO_region  New_cases  \\\n",
       "0    2020-01-03           AF  Afghanistan  Moyen Orient        0.0   \n",
       "1    2020-01-04           AF  Afghanistan  Moyen Orient        0.0   \n",
       "\n",
       "   Cumulative_cases  New_deaths  Cumulative_deaths OCDE         Area  \\\n",
       "0               0.0         0.0                0.0       Afghanistan   \n",
       "1               0.0         0.0                0.0       Afghanistan   \n",
       "\n",
       "   Population (en 000 pers) _merge  \n",
       "0                 37171.921   both  \n",
       "1                 37171.921   both  "
      ]
     },
     "execution_count": 12,
     "metadata": {},
     "output_type": "execute_result"
    }
   ],
   "source": [
    "# Faisons une première jointure exploratoire, avec indicator=True\n",
    "df=pd.merge(left= WHO, right = FAO2, left_on='Country', right_on='Area', how = 'outer',indicator=True)\n",
    "df.head(2)"
   ]
  },
  {
   "cell_type": "code",
   "execution_count": 13,
   "metadata": {},
   "outputs": [
    {
     "data": {
      "text/plain": [
       "both          158400\n",
       "left_only      12240\n",
       "right_only        17\n",
       "Name: _merge, dtype: int64"
      ]
     },
     "execution_count": 13,
     "metadata": {},
     "output_type": "execute_result"
    }
   ],
   "source": [
    "# Quelles sont les lignes qui n'ont pas jointé?\n",
    "df['_merge'].value_counts()"
   ]
  },
  {
   "cell_type": "code",
   "execution_count": 14,
   "metadata": {},
   "outputs": [
    {
     "data": {
      "text/plain": [
       "array(['Bonaire', 'Côte d’Ivoire', 'French Guiana', 'Guernsey', 'Jersey',\n",
       "       'Kosovo[1]', 'Northern Mariana Islands (Commonwealth of the)',\n",
       "       'occupied Palestinian territory, including east Jerusalem',\n",
       "       'Other', 'Pitcairn Islands', 'Saba', 'Saint Helena',\n",
       "       'Saint Martin', 'Sint Eustatius', 'Sint Maarten',\n",
       "       'The United Kingdom', 'Wallis and Futuna'], dtype=object)"
      ]
     },
     "execution_count": 14,
     "metadata": {},
     "output_type": "execute_result"
    }
   ],
   "source": [
    "# Lignes pour lesquelles il manque la population\n",
    "PbFAO= df.loc[df['_merge']=='left_only']\n",
    "PbFAO['Country'].unique()"
   ]
  },
  {
   "cell_type": "code",
   "execution_count": 15,
   "metadata": {},
   "outputs": [
    {
     "data": {
      "text/plain": [
       "array(['Bonaire, Sint Eustatius and Saba', 'Channel Islands',\n",
       "       'China, Hong Kong SAR', 'China, Macao SAR', 'China, mainland',\n",
       "       'China, Taiwan Province of', \"Côte d'Ivoire\", 'French Guyana',\n",
       "       'Netherlands Antilles (former)', 'Northern Mariana Islands',\n",
       "       'Palestine', 'Saint Helena, Ascension and Tristan da Cunha',\n",
       "       'Saint-Martin (French part)', 'Sint Maarten (Dutch part)',\n",
       "       'United Kingdom of Great Britain and Northern Ireland',\n",
       "       'Wallis and Futuna Islands', 'Western Sahara'], dtype=object)"
      ]
     },
     "execution_count": 15,
     "metadata": {},
     "output_type": "execute_result"
    }
   ],
   "source": [
    "# Lignes pour lesquelles il manque le nb de décès\n",
    "PbWHO= df.loc[df['_merge']=='right_only']\n",
    "PbWHO['Area'].unique()"
   ]
  },
  {
   "cell_type": "raw",
   "metadata": {},
   "source": [
    "La plupart sont des territoires d'outremer, qui ne figurent pas dans le fichier de l'OMS. \n",
    "Il faut par contre traiter le Kosovo, la Côte d'Ivoire, le Royaume Unis, la Chine ('China, Hong Kong SAR'+'China, Macao SAR'+'China, mainland'), Taiwan et la Palestine."
   ]
  },
  {
   "cell_type": "code",
   "execution_count": 16,
   "metadata": {},
   "outputs": [
    {
     "name": "stderr",
     "output_type": "stream",
     "text": [
      "/opt/anaconda3/lib/python3.8/site-packages/pandas/core/indexing.py:1765: SettingWithCopyWarning: \n",
      "A value is trying to be set on a copy of a slice from a DataFrame.\n",
      "Try using .loc[row_indexer,col_indexer] = value instead\n",
      "\n",
      "See the caveats in the documentation: https://pandas.pydata.org/pandas-docs/stable/user_guide/indexing.html#returning-a-view-versus-a-copy\n",
      "  isetter(loc, value)\n"
     ]
    }
   ],
   "source": [
    "# Traitement de la Palestine, la Côte d'Ivoire et du Royaume Uni\n",
    "# Identifier l'index \n",
    "FAO2.loc[FAO2['Area']=='Palestine']\n",
    "\n",
    "# Changer la valeur\n",
    "FAO2.loc[162,'Area']='occupied Palestinian territory, including east Jerusalem'\n",
    "FAO2.loc[223,'Area']='The United Kingdom'\n",
    "FAO2.loc[53,'Area']=\"Côte d'Ivoire\" "
   ]
  },
  {
   "cell_type": "code",
   "execution_count": 17,
   "metadata": {},
   "outputs": [
    {
     "data": {
      "text/html": [
       "<div>\n",
       "<style scoped>\n",
       "    .dataframe tbody tr th:only-of-type {\n",
       "        vertical-align: middle;\n",
       "    }\n",
       "\n",
       "    .dataframe tbody tr th {\n",
       "        vertical-align: top;\n",
       "    }\n",
       "\n",
       "    .dataframe thead th {\n",
       "        text-align: right;\n",
       "    }\n",
       "</style>\n",
       "<table border=\"1\" class=\"dataframe\">\n",
       "  <thead>\n",
       "    <tr style=\"text-align: right;\">\n",
       "      <th></th>\n",
       "      <th>Area</th>\n",
       "      <th>Population (en 000 pers)</th>\n",
       "    </tr>\n",
       "  </thead>\n",
       "  <tbody>\n",
       "    <tr>\n",
       "      <th>43</th>\n",
       "      <td>China</td>\n",
       "      <td>1459377.612</td>\n",
       "    </tr>\n",
       "    <tr>\n",
       "      <th>44</th>\n",
       "      <td>China, Hong Kong SAR</td>\n",
       "      <td>7371.730</td>\n",
       "    </tr>\n",
       "    <tr>\n",
       "      <th>45</th>\n",
       "      <td>China, Macao SAR</td>\n",
       "      <td>631.636</td>\n",
       "    </tr>\n",
       "    <tr>\n",
       "      <th>46</th>\n",
       "      <td>China, mainland</td>\n",
       "      <td>1427647.786</td>\n",
       "    </tr>\n",
       "    <tr>\n",
       "      <th>47</th>\n",
       "      <td>China, Taiwan Province of</td>\n",
       "      <td>23726.460</td>\n",
       "    </tr>\n",
       "  </tbody>\n",
       "</table>\n",
       "</div>"
      ],
      "text/plain": [
       "                         Area  Population (en 000 pers)\n",
       "43                      China               1459377.612\n",
       "44       China, Hong Kong SAR                  7371.730\n",
       "45           China, Macao SAR                   631.636\n",
       "46            China, mainland               1427647.786\n",
       "47  China, Taiwan Province of                 23726.460"
      ]
     },
     "execution_count": 17,
     "metadata": {},
     "output_type": "execute_result"
    }
   ],
   "source": [
    "# Traitement des lignes concernant la Chine\n",
    "FAO2.loc[FAO2['Area'].str.contains('China', case=False)]"
   ]
  },
  {
   "cell_type": "code",
   "execution_count": 18,
   "metadata": {},
   "outputs": [
    {
     "data": {
      "text/plain": [
       "array(['Botswana', 'Rwanda'], dtype=object)"
      ]
     },
     "execution_count": 18,
     "metadata": {},
     "output_type": "execute_result"
    }
   ],
   "source": [
    "W=WHO.loc[WHO['Country'].str.contains('wan', case=False)]  # Car le i de Taiwan pose pb\n",
    "W['Country'].unique()"
   ]
  },
  {
   "cell_type": "raw",
   "metadata": {},
   "source": [
    "Seule la ligne China nous intéresse. Nous laisserons la jointure nous débarrasser des subdivisions.\n",
    "Taïwan n'est pas reconnu par l'ONU. Il n'y a pas de données le concernant dans le fichier WHO. Nous devons l'abandonner."
   ]
  },
  {
   "cell_type": "raw",
   "metadata": {},
   "source": [
    "Traitement du Kosovo\n",
    "Ce pays n'est pas reconnu par l'ONU => ne figure pas dans le fichier de la FAO. Je renseigne avec une valeur pour la population trouvée sur internet:"
   ]
  },
  {
   "cell_type": "code",
   "execution_count": 19,
   "metadata": {},
   "outputs": [
    {
     "data": {
      "text/html": [
       "<div>\n",
       "<style scoped>\n",
       "    .dataframe tbody tr th:only-of-type {\n",
       "        vertical-align: middle;\n",
       "    }\n",
       "\n",
       "    .dataframe tbody tr th {\n",
       "        vertical-align: top;\n",
       "    }\n",
       "\n",
       "    .dataframe thead th {\n",
       "        text-align: right;\n",
       "    }\n",
       "</style>\n",
       "<table border=\"1\" class=\"dataframe\">\n",
       "  <thead>\n",
       "    <tr style=\"text-align: right;\">\n",
       "      <th></th>\n",
       "      <th>Area</th>\n",
       "      <th>Population (en 000 pers)</th>\n",
       "    </tr>\n",
       "  </thead>\n",
       "  <tbody>\n",
       "    <tr>\n",
       "      <th>233</th>\n",
       "      <td>Western Sahara</td>\n",
       "      <td>567.402</td>\n",
       "    </tr>\n",
       "    <tr>\n",
       "      <th>234</th>\n",
       "      <td>Yemen</td>\n",
       "      <td>28498.683</td>\n",
       "    </tr>\n",
       "    <tr>\n",
       "      <th>235</th>\n",
       "      <td>Zambia</td>\n",
       "      <td>17351.708</td>\n",
       "    </tr>\n",
       "    <tr>\n",
       "      <th>236</th>\n",
       "      <td>Zimbabwe</td>\n",
       "      <td>14438.802</td>\n",
       "    </tr>\n",
       "    <tr>\n",
       "      <th>237</th>\n",
       "      <td>Kosovo[1]</td>\n",
       "      <td>1700.000</td>\n",
       "    </tr>\n",
       "  </tbody>\n",
       "</table>\n",
       "</div>"
      ],
      "text/plain": [
       "               Area  Population (en 000 pers)\n",
       "233  Western Sahara                   567.402\n",
       "234           Yemen                 28498.683\n",
       "235          Zambia                 17351.708\n",
       "236        Zimbabwe                 14438.802\n",
       "237       Kosovo[1]                  1700.000"
      ]
     },
     "execution_count": 19,
     "metadata": {},
     "output_type": "execute_result"
    }
   ],
   "source": [
    "# créer un df avec une seule ligne\n",
    "ligne = pd.DataFrame([['Kosovo[1]', 1700]])\n",
    "ligne.columns=['Area','Population (en 000 pers)']\n",
    "# l'ajouter à la fin de Pop2\n",
    "FAO3=FAO2.append(ligne, ignore_index=True)\n",
    "FAO3.tail()"
   ]
  },
  {
   "cell_type": "markdown",
   "metadata": {},
   "source": [
    "# Jointure et création de la colonne nb décès/million d'habitants !"
   ]
  },
  {
   "cell_type": "code",
   "execution_count": 20,
   "metadata": {},
   "outputs": [
    {
     "data": {
      "text/html": [
       "<div>\n",
       "<style scoped>\n",
       "    .dataframe tbody tr th:only-of-type {\n",
       "        vertical-align: middle;\n",
       "    }\n",
       "\n",
       "    .dataframe tbody tr th {\n",
       "        vertical-align: top;\n",
       "    }\n",
       "\n",
       "    .dataframe thead th {\n",
       "        text-align: right;\n",
       "    }\n",
       "</style>\n",
       "<table border=\"1\" class=\"dataframe\">\n",
       "  <thead>\n",
       "    <tr style=\"text-align: right;\">\n",
       "      <th></th>\n",
       "      <th>Date_reported</th>\n",
       "      <th>Country_code</th>\n",
       "      <th>Country</th>\n",
       "      <th>WHO_region</th>\n",
       "      <th>New_cases</th>\n",
       "      <th>Cumulative_cases</th>\n",
       "      <th>New_deaths</th>\n",
       "      <th>Cumulative_deaths</th>\n",
       "      <th>OCDE</th>\n",
       "      <th>Area</th>\n",
       "      <th>Population (en 000 pers)</th>\n",
       "    </tr>\n",
       "  </thead>\n",
       "  <tbody>\n",
       "    <tr>\n",
       "      <th>0</th>\n",
       "      <td>2020-01-03</td>\n",
       "      <td>AF</td>\n",
       "      <td>Afghanistan</td>\n",
       "      <td>Moyen Orient</td>\n",
       "      <td>0</td>\n",
       "      <td>0</td>\n",
       "      <td>0</td>\n",
       "      <td>0</td>\n",
       "      <td></td>\n",
       "      <td>Afghanistan</td>\n",
       "      <td>37171.921</td>\n",
       "    </tr>\n",
       "    <tr>\n",
       "      <th>1</th>\n",
       "      <td>2020-01-04</td>\n",
       "      <td>AF</td>\n",
       "      <td>Afghanistan</td>\n",
       "      <td>Moyen Orient</td>\n",
       "      <td>0</td>\n",
       "      <td>0</td>\n",
       "      <td>0</td>\n",
       "      <td>0</td>\n",
       "      <td></td>\n",
       "      <td>Afghanistan</td>\n",
       "      <td>37171.921</td>\n",
       "    </tr>\n",
       "    <tr>\n",
       "      <th>2</th>\n",
       "      <td>2020-01-05</td>\n",
       "      <td>AF</td>\n",
       "      <td>Afghanistan</td>\n",
       "      <td>Moyen Orient</td>\n",
       "      <td>0</td>\n",
       "      <td>0</td>\n",
       "      <td>0</td>\n",
       "      <td>0</td>\n",
       "      <td></td>\n",
       "      <td>Afghanistan</td>\n",
       "      <td>37171.921</td>\n",
       "    </tr>\n",
       "    <tr>\n",
       "      <th>3</th>\n",
       "      <td>2020-01-06</td>\n",
       "      <td>AF</td>\n",
       "      <td>Afghanistan</td>\n",
       "      <td>Moyen Orient</td>\n",
       "      <td>0</td>\n",
       "      <td>0</td>\n",
       "      <td>0</td>\n",
       "      <td>0</td>\n",
       "      <td></td>\n",
       "      <td>Afghanistan</td>\n",
       "      <td>37171.921</td>\n",
       "    </tr>\n",
       "    <tr>\n",
       "      <th>4</th>\n",
       "      <td>2020-01-07</td>\n",
       "      <td>AF</td>\n",
       "      <td>Afghanistan</td>\n",
       "      <td>Moyen Orient</td>\n",
       "      <td>0</td>\n",
       "      <td>0</td>\n",
       "      <td>0</td>\n",
       "      <td>0</td>\n",
       "      <td></td>\n",
       "      <td>Afghanistan</td>\n",
       "      <td>37171.921</td>\n",
       "    </tr>\n",
       "  </tbody>\n",
       "</table>\n",
       "</div>"
      ],
      "text/plain": [
       "  Date_reported Country_code      Country    WHO_region  New_cases  \\\n",
       "0    2020-01-03           AF  Afghanistan  Moyen Orient          0   \n",
       "1    2020-01-04           AF  Afghanistan  Moyen Orient          0   \n",
       "2    2020-01-05           AF  Afghanistan  Moyen Orient          0   \n",
       "3    2020-01-06           AF  Afghanistan  Moyen Orient          0   \n",
       "4    2020-01-07           AF  Afghanistan  Moyen Orient          0   \n",
       "\n",
       "   Cumulative_cases  New_deaths  Cumulative_deaths OCDE         Area  \\\n",
       "0                 0           0                  0       Afghanistan   \n",
       "1                 0           0                  0       Afghanistan   \n",
       "2                 0           0                  0       Afghanistan   \n",
       "3                 0           0                  0       Afghanistan   \n",
       "4                 0           0                  0       Afghanistan   \n",
       "\n",
       "   Population (en 000 pers)  \n",
       "0                 37171.921  \n",
       "1                 37171.921  \n",
       "2                 37171.921  \n",
       "3                 37171.921  \n",
       "4                 37171.921  "
      ]
     },
     "execution_count": 20,
     "metadata": {},
     "output_type": "execute_result"
    }
   ],
   "source": [
    "# Joindre les 2 df (après réintégration du Kosovo et de la Palestine)\n",
    "df=pd.merge(left= WHO, right = FAO3, left_on='Country', right_on='Area', how='left')\n",
    "df.head()"
   ]
  },
  {
   "cell_type": "code",
   "execution_count": 21,
   "metadata": {},
   "outputs": [
    {
     "data": {
      "text/html": [
       "<div>\n",
       "<style scoped>\n",
       "    .dataframe tbody tr th:only-of-type {\n",
       "        vertical-align: middle;\n",
       "    }\n",
       "\n",
       "    .dataframe tbody tr th {\n",
       "        vertical-align: top;\n",
       "    }\n",
       "\n",
       "    .dataframe thead th {\n",
       "        text-align: right;\n",
       "    }\n",
       "</style>\n",
       "<table border=\"1\" class=\"dataframe\">\n",
       "  <thead>\n",
       "    <tr style=\"text-align: right;\">\n",
       "      <th></th>\n",
       "      <th>Date_reported</th>\n",
       "      <th>Country</th>\n",
       "      <th>WHO_region</th>\n",
       "      <th>New_deaths</th>\n",
       "      <th>OCDE</th>\n",
       "      <th>Population (en 000 pers)</th>\n",
       "    </tr>\n",
       "  </thead>\n",
       "  <tbody>\n",
       "    <tr>\n",
       "      <th>0</th>\n",
       "      <td>2020-01-03</td>\n",
       "      <td>Afghanistan</td>\n",
       "      <td>Moyen Orient</td>\n",
       "      <td>0</td>\n",
       "      <td></td>\n",
       "      <td>37171.921</td>\n",
       "    </tr>\n",
       "    <tr>\n",
       "      <th>1</th>\n",
       "      <td>2020-01-04</td>\n",
       "      <td>Afghanistan</td>\n",
       "      <td>Moyen Orient</td>\n",
       "      <td>0</td>\n",
       "      <td></td>\n",
       "      <td>37171.921</td>\n",
       "    </tr>\n",
       "    <tr>\n",
       "      <th>2</th>\n",
       "      <td>2020-01-05</td>\n",
       "      <td>Afghanistan</td>\n",
       "      <td>Moyen Orient</td>\n",
       "      <td>0</td>\n",
       "      <td></td>\n",
       "      <td>37171.921</td>\n",
       "    </tr>\n",
       "    <tr>\n",
       "      <th>3</th>\n",
       "      <td>2020-01-06</td>\n",
       "      <td>Afghanistan</td>\n",
       "      <td>Moyen Orient</td>\n",
       "      <td>0</td>\n",
       "      <td></td>\n",
       "      <td>37171.921</td>\n",
       "    </tr>\n",
       "    <tr>\n",
       "      <th>4</th>\n",
       "      <td>2020-01-07</td>\n",
       "      <td>Afghanistan</td>\n",
       "      <td>Moyen Orient</td>\n",
       "      <td>0</td>\n",
       "      <td></td>\n",
       "      <td>37171.921</td>\n",
       "    </tr>\n",
       "  </tbody>\n",
       "</table>\n",
       "</div>"
      ],
      "text/plain": [
       "  Date_reported      Country    WHO_region  New_deaths OCDE  \\\n",
       "0    2020-01-03  Afghanistan  Moyen Orient           0        \n",
       "1    2020-01-04  Afghanistan  Moyen Orient           0        \n",
       "2    2020-01-05  Afghanistan  Moyen Orient           0        \n",
       "3    2020-01-06  Afghanistan  Moyen Orient           0        \n",
       "4    2020-01-07  Afghanistan  Moyen Orient           0        \n",
       "\n",
       "   Population (en 000 pers)  \n",
       "0                 37171.921  \n",
       "1                 37171.921  \n",
       "2                 37171.921  \n",
       "3                 37171.921  \n",
       "4                 37171.921  "
      ]
     },
     "execution_count": 21,
     "metadata": {},
     "output_type": "execute_result"
    }
   ],
   "source": [
    "# Ne garder que les colonnes intéressantes\n",
    "df.drop(columns=['Country_code','New_cases','Cumulative_cases','Cumulative_deaths','Area'], inplace=True)\n",
    "df.head()"
   ]
  },
  {
   "cell_type": "code",
   "execution_count": 22,
   "metadata": {},
   "outputs": [
    {
     "data": {
      "text/html": [
       "<div>\n",
       "<style scoped>\n",
       "    .dataframe tbody tr th:only-of-type {\n",
       "        vertical-align: middle;\n",
       "    }\n",
       "\n",
       "    .dataframe tbody tr th {\n",
       "        vertical-align: top;\n",
       "    }\n",
       "\n",
       "    .dataframe thead th {\n",
       "        text-align: right;\n",
       "    }\n",
       "</style>\n",
       "<table border=\"1\" class=\"dataframe\">\n",
       "  <thead>\n",
       "    <tr style=\"text-align: right;\">\n",
       "      <th></th>\n",
       "      <th>Date_reported</th>\n",
       "      <th>Country</th>\n",
       "      <th>WHO_region</th>\n",
       "      <th>New_deaths</th>\n",
       "      <th>OCDE</th>\n",
       "      <th>Population (en 000 pers)</th>\n",
       "      <th>Décès/ million hab</th>\n",
       "    </tr>\n",
       "  </thead>\n",
       "  <tbody>\n",
       "    <tr>\n",
       "      <th>43765</th>\n",
       "      <td>2021-07-21</td>\n",
       "      <td>Ecuador</td>\n",
       "      <td>Amériques</td>\n",
       "      <td>8786</td>\n",
       "      <td></td>\n",
       "      <td>17084.358</td>\n",
       "      <td>514.271593</td>\n",
       "    </tr>\n",
       "    <tr>\n",
       "      <th>94201</th>\n",
       "      <td>2021-08-26</td>\n",
       "      <td>Martinique</td>\n",
       "      <td>Amériques</td>\n",
       "      <td>114</td>\n",
       "      <td></td>\n",
       "      <td>375.673</td>\n",
       "      <td>303.455399</td>\n",
       "    </tr>\n",
       "    <tr>\n",
       "      <th>57982</th>\n",
       "      <td>2021-01-19</td>\n",
       "      <td>Gibraltar</td>\n",
       "      <td>Europe + ex URSS</td>\n",
       "      <td>9</td>\n",
       "      <td></td>\n",
       "      <td>33.718</td>\n",
       "      <td>266.919746</td>\n",
       "    </tr>\n",
       "    <tr>\n",
       "      <th>61090</th>\n",
       "      <td>2021-09-04</td>\n",
       "      <td>Guadeloupe</td>\n",
       "      <td>Amériques</td>\n",
       "      <td>98</td>\n",
       "      <td></td>\n",
       "      <td>399.848</td>\n",
       "      <td>245.093135</td>\n",
       "    </tr>\n",
       "    <tr>\n",
       "      <th>61097</th>\n",
       "      <td>2021-09-11</td>\n",
       "      <td>Guadeloupe</td>\n",
       "      <td>Amériques</td>\n",
       "      <td>89</td>\n",
       "      <td></td>\n",
       "      <td>399.848</td>\n",
       "      <td>222.584582</td>\n",
       "    </tr>\n",
       "  </tbody>\n",
       "</table>\n",
       "</div>"
      ],
      "text/plain": [
       "      Date_reported     Country        WHO_region  New_deaths OCDE  \\\n",
       "43765    2021-07-21     Ecuador         Amériques        8786        \n",
       "94201    2021-08-26  Martinique         Amériques         114        \n",
       "57982    2021-01-19   Gibraltar  Europe + ex URSS           9        \n",
       "61090    2021-09-04  Guadeloupe         Amériques          98        \n",
       "61097    2021-09-11  Guadeloupe         Amériques          89        \n",
       "\n",
       "       Population (en 000 pers)  Décès/ million hab  \n",
       "43765                 17084.358          514.271593  \n",
       "94201                   375.673          303.455399  \n",
       "57982                    33.718          266.919746  \n",
       "61090                   399.848          245.093135  \n",
       "61097                   399.848          222.584582  "
      ]
     },
     "execution_count": 22,
     "metadata": {},
     "output_type": "execute_result"
    }
   ],
   "source": [
    "# Création d'une colonne Décès/ million hab (le but de ce projet !!!!)\n",
    "df['Décès/ million hab']=df['New_deaths']/df['Population (en 000 pers)']*1000\n",
    "df.sort_values(by='Décès/ million hab', ascending=False, inplace=True)\n",
    "df.head()"
   ]
  },
  {
   "cell_type": "code",
   "execution_count": 23,
   "metadata": {},
   "outputs": [],
   "source": [
    "# Download du fichier nettoyé\n",
    "df.to_csv('S1 Covid nettoyé.csv', index=False)"
   ]
  },
  {
   "cell_type": "markdown",
   "metadata": {},
   "source": [
    "# Visualisations"
   ]
  },
  {
   "cell_type": "raw",
   "metadata": {},
   "source": [
    "Ca y est!!! Nous sommes enfin prêts. Voyons ce que ce dataset nous réserve"
   ]
  },
  {
   "cell_type": "markdown",
   "metadata": {},
   "source": [
    "### Décès par million sur toute la pandémie"
   ]
  },
  {
   "cell_type": "code",
   "execution_count": 24,
   "metadata": {},
   "outputs": [
    {
     "data": {
      "text/plain": [
       "Text(0.5, 1.0, \"Décès du Covid dans le monde, par million d'habitants\")"
      ]
     },
     "execution_count": 24,
     "metadata": {},
     "output_type": "execute_result"
    },
    {
     "data": {
      "image/png": "[encoded data removed]",
      "text/plain": [
       "<Figure size 1008x360 with 1 Axes>"
      ]
     },
     "metadata": {
      "needs_background": "light"
     },
     "output_type": "display_data"
    }
   ],
   "source": [
    "# Grouper par pays, rétablir la colonne pays (qui était devenue index), trier\n",
    "dfGr=df.groupby(['Country']).sum().reset_index()\n",
    "dfGr.sort_values(by='Décès/ million hab', ascending=False, inplace= True)\n",
    "\n",
    "# Représenter les 10 pays les plus endeuillés\n",
    "dfGr[:10].plot.barh('Country','Décès/ million hab',figsize=(14, 5),legend=None).invert_yaxis() #sinon, c'est ascendant\n",
    "plt.title(\"Décès du Covid dans le monde, par million d'habitants\")"
   ]
  },
  {
   "cell_type": "raw",
   "metadata": {},
   "source": [
    "Il ne faisait pas bon vivre au Pérou ou en Europe centrale ces 2 dernières années ...\n",
    "\n",
    "Où sont les pays qui normalement caracolent en tête du classement ? Gardons le Pérou pour donner l'échelle:"
   ]
  },
  {
   "cell_type": "code",
   "execution_count": 25,
   "metadata": {},
   "outputs": [
    {
     "data": {
      "image/png": "[encoded data removed]",
      "text/plain": [
       "<Figure size 1008x180 with 1 Axes>"
      ]
     },
     "metadata": {
      "needs_background": "light"
     },
     "output_type": "display_data"
    }
   ],
   "source": [
    "# Restreignons à ces pays\n",
    "ListHead = ['Peru','India','Brazil','Russian Federation', 'United States of America']\n",
    "#Ajoutons une colonne 'rang' au df\n",
    "dfGr['Rank'] = dfGr['Décès/ million hab'].rank(ascending=0)\n",
    "\n",
    "Head = dfGr.loc[dfGr['Country'].isin(ListHead)]\n",
    "\n",
    "Head.plot.barh('Country','Décès/ million hab',figsize=(14, 2.5),legend=None).invert_yaxis()"
   ]
  },
  {
   "cell_type": "raw",
   "metadata": {},
   "source": [
    "Dans les média, le classement est \n",
    "1: USA\n",
    "2: Brésil\n",
    "3: Inde\n",
    "(visible ici dans la colonne 'New Deaths')"
   ]
  },
  {
   "cell_type": "code",
   "execution_count": 26,
   "metadata": {},
   "outputs": [
    {
     "data": {
      "text/html": [
       "<div>\n",
       "<style scoped>\n",
       "    .dataframe tbody tr th:only-of-type {\n",
       "        vertical-align: middle;\n",
       "    }\n",
       "\n",
       "    .dataframe tbody tr th {\n",
       "        vertical-align: top;\n",
       "    }\n",
       "\n",
       "    .dataframe thead th {\n",
       "        text-align: right;\n",
       "    }\n",
       "</style>\n",
       "<table border=\"1\" class=\"dataframe\">\n",
       "  <thead>\n",
       "    <tr style=\"text-align: right;\">\n",
       "      <th></th>\n",
       "      <th>Country</th>\n",
       "      <th>New_deaths</th>\n",
       "      <th>Population (en 000 pers)</th>\n",
       "      <th>Décès/ million hab</th>\n",
       "      <th>Rank</th>\n",
       "    </tr>\n",
       "  </thead>\n",
       "  <tbody>\n",
       "    <tr>\n",
       "      <th>163</th>\n",
       "      <td>Peru</td>\n",
       "      <td>202295</td>\n",
       "      <td>2.303227e+07</td>\n",
       "      <td>6323.841189</td>\n",
       "      <td>1.0</td>\n",
       "    </tr>\n",
       "    <tr>\n",
       "      <th>28</th>\n",
       "      <td>Brazil</td>\n",
       "      <td>617873</td>\n",
       "      <td>1.508179e+08</td>\n",
       "      <td>2949.706387</td>\n",
       "      <td>12.0</td>\n",
       "    </tr>\n",
       "    <tr>\n",
       "      <th>226</th>\n",
       "      <td>United States of America</td>\n",
       "      <td>799942</td>\n",
       "      <td>2.355093e+08</td>\n",
       "      <td>2445.585858</td>\n",
       "      <td>21.0</td>\n",
       "    </tr>\n",
       "    <tr>\n",
       "      <th>173</th>\n",
       "      <td>Russian Federation</td>\n",
       "      <td>300269</td>\n",
       "      <td>1.049285e+08</td>\n",
       "      <td>2060.390312</td>\n",
       "      <td>34.0</td>\n",
       "    </tr>\n",
       "    <tr>\n",
       "      <th>96</th>\n",
       "      <td>India</td>\n",
       "      <td>478325</td>\n",
       "      <td>9.739024e+08</td>\n",
       "      <td>353.622689</td>\n",
       "      <td>126.0</td>\n",
       "    </tr>\n",
       "  </tbody>\n",
       "</table>\n",
       "</div>"
      ],
      "text/plain": [
       "                      Country  New_deaths  Population (en 000 pers)  \\\n",
       "163                      Peru      202295              2.303227e+07   \n",
       "28                     Brazil      617873              1.508179e+08   \n",
       "226  United States of America      799942              2.355093e+08   \n",
       "173        Russian Federation      300269              1.049285e+08   \n",
       "96                      India      478325              9.739024e+08   \n",
       "\n",
       "     Décès/ million hab   Rank  \n",
       "163         6323.841189    1.0  \n",
       "28          2949.706387   12.0  \n",
       "226         2445.585858   21.0  \n",
       "173         2060.390312   34.0  \n",
       "96           353.622689  126.0  "
      ]
     },
     "execution_count": 26,
     "metadata": {},
     "output_type": "execute_result"
    }
   ],
   "source": [
    "# Quel est leur rang si on considère le taux de mortalité ? \n",
    "Head"
   ]
  },
  {
   "cell_type": "raw",
   "metadata": {},
   "source": [
    "Très différent...\n",
    "\n",
    "Je tiens à préciser que les épidémiologistes ont de GROS doutes quant à la fiabilité des chiffres indiens. Je ne sais pas trop si les chiffres russes et brésiliens sont beaucoup plus fiables... Et si nous restreignons notre analyse aux pays de l'OCDE? "
   ]
  },
  {
   "cell_type": "markdown",
   "metadata": {},
   "source": [
    "# Visualisation restreinte à l'OCDE"
   ]
  },
  {
   "cell_type": "code",
   "execution_count": 27,
   "metadata": {},
   "outputs": [],
   "source": [
    "# Retreindre à l'OCDE, grouper à nouveau\n",
    "dfOCDE= df.loc[df['OCDE']=='OCDE']\n",
    "dfOGr=dfOCDE.groupby(['Country']).sum().reset_index()\n",
    "dfOGr.sort_values(by='Décès/ million hab', ascending=False, inplace= True)"
   ]
  },
  {
   "cell_type": "code",
   "execution_count": 28,
   "metadata": {},
   "outputs": [
    {
     "data": {
      "text/plain": [
       "Text(0.5, 1.0, \"Décès du Covid dans l'OCDE sur toute la pandémie, par million d'habitants\")"
      ]
     },
     "execution_count": 28,
     "metadata": {},
     "output_type": "execute_result"
    },
    {
     "data": {
      "image/png": "[encoded data removed]",
      "text/plain": [
       "<Figure size 1080x360 with 1 Axes>"
      ]
     },
     "metadata": {
      "needs_background": "light"
     },
     "output_type": "display_data"
    }
   ],
   "source": [
    "dfOGr[:15].plot.barh('Country','Décès/ million hab',figsize=(15, 5),legend=None).invert_yaxis()\n",
    "plt.title(\"Décès du Covid dans l'OCDE sur toute la pandémie, par million d'habitants\")"
   ]
  },
  {
   "cell_type": "code",
   "execution_count": 29,
   "metadata": {},
   "outputs": [
    {
     "data": {
      "image/png": "[encoded data removed]",
      "text/plain": [
       "<Figure size 1008x108 with 1 Axes>"
      ]
     },
     "metadata": {
      "needs_background": "light"
     },
     "output_type": "display_data"
    }
   ],
   "source": [
    "# Bonus: classement de la France et de ses voisins\n",
    "FG = ['France', 'Germany', 'The United Kingdom', 'Belgium', 'Italy', 'Spain']\n",
    "\n",
    "dfFG = dfOGr.loc[dfOGr['Country'].isin(FG)]\n",
    "\n",
    "dfFG.plot.barh('Country','Décès/ million hab',figsize=(14, 1.5),legend=None).invert_yaxis()"
   ]
  },
  {
   "cell_type": "raw",
   "metadata": {},
   "source": [
    "Merci de votre attention! Bonne fin de journée.\n",
    "\n",
    "NB: pour ce projet, je n'ai pas eu besoin de faire d'imputations. Ce cas de figure sera traité dans un autre notebook."
   ]
  }
 ],
 "metadata": {
  "kernelspec": {
   "display_name": "Python 3",
   "language": "python",
   "name": "python3"
  },
  "language_info": {
   "codemirror_mode": {
    "name": "ipython",
    "version": 3
   },
   "file_extension": ".py",
   "mimetype": "text/x-python",
   "name": "python",
   "nbconvert_exporter": "python",
   "pygments_lexer": "ipython3",
   "version": "3.8.5"
  },
  "varInspector": {
   "cols": {
    "lenName": 16,
    "lenType": 16,
    "lenVar": 40
   },
   "kernels_config": {
    "python": {
     "delete_cmd_postfix": "",
     "delete_cmd_prefix": "del ",
     "library": "var_list.py",
     "varRefreshCmd": "print(var_dic_list())"
    },
    "r": {
     "delete_cmd_postfix": ") ",
     "delete_cmd_prefix": "rm(",
     "library": "var_list.r",
     "varRefreshCmd": "cat(var_dic_list()) "
    }
   },
   "types_to_exclude": [
    "module",
    "function",
    "builtin_function_or_method",
    "instance",
    "_Feature"
   ],
   "window_display": false
  }
 },
 "nbformat": 4,
 "nbformat_minor": 4
}
