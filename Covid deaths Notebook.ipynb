{
   "cell_type": "raw",
   "metadata": {},
   "source": [
    "Bonjour,\n",
    "\n",
    "Dans quel pays meurt-on le plus du Covid ? \n",
    "\n",
    "Ce dataset a pour but de présenter la mortalité Covid en nombre de MORTS PAR MILLIONS D'HABITANTS d'un pays. En effet, les media privilégient le nombre de morts, sans prendre en compte la taille de la population. Cette unité pénalise les pays très peuplés et ne permet pas de se faire une idée de l'efficacité des politiques sanitaires."
   ]
  },
  {
   "cell_type": "markdown",
   "metadata": {},
   "source": [
    "### Compétences mises en oeuvres"
   ]
  },
  {
   "cell_type": "raw",
   "metadata": {},
   "source": [
    "Ce projet a demandé pas mal de data cleaning car les données viennent de 3 organisations différentes (OMS, FAO, OCDE), chacune nommant les pays à sa guise, comptant à sa façon (000 hab, 000 000 hab), etc.\n",
    "Il y avait également des données manquantes (création de lignes) et des pays à éliminer au vu du manque de fiabilité de leurs données, bref une grande variété de cas de figure.\n",
    "\n",
    "Les résultats sont présentés dans l'article suivant:\n",
    "https://www.linkedin.com/pulse/dans-quel-pays-meurt-on-le-plus-du-covid-anne-pierce/?trackingId=w%2BnMu5jPi42kB1r%2Bz2UpNA%3D%3D"
   ]
  },
  {
   "cell_type": "markdown",
   "metadata": {},
   "source": [
    "# Préparer la table OMS "
   ]
  },
  {
   "cell_type": "code",
   "execution_count": 2,
   "metadata": {},
   "outputs": [],
   "source": [
    "import pandas as pd\n",
    "import numpy as np\n",
    "from matplotlib import pyplot as plt"
   ]
  },
  {
   "cell_type": "code",
   "execution_count": 6,
   "metadata": {},
   "outputs": [
    {
     "data": {
      "text/html": [
       "<div>\n",
       "<style scoped>\n",
       "    .dataframe tbody tr th:only-of-type {\n",
       "        vertical-align: middle;\n",
       "    }\n",
       "\n",
       "    .dataframe tbody tr th {\n",
       "        vertical-align: top;\n",
       "    }\n",
       "\n",
       "    .dataframe thead th {\n",
       "        text-align: right;\n",
       "    }\n",
       "</style>\n",
       "<table border=\"1\" class=\"dataframe\">\n",
       "  <thead>\n",
       "    <tr style=\"text-align: right;\">\n",
       "      <th></th>\n",
       "      <th>Date_reported</th>\n",
       "      <th>Country_code</th>\n",
       "      <th>Country</th>\n",
       "      <th>WHO_region</th>\n",
       "      <th>New_cases</th>\n",
       "      <th>Cumulative_cases</th>\n",
       "      <th>New_deaths</th>\n",
       "      <th>Cumulative_deaths</th>\n",
       "    </tr>\n",
       "  </thead>\n",
       "  <tbody>\n",
       "    <tr>\n",
       "      <th>0</th>\n",
       "      <td>2020-01-03</td>\n",
       "      <td>AF</td>\n",
       "      <td>Afghanistan</td>\n",
       "      <td>EMRO</td>\n",
       "      <td>0</td>\n",
       "      <td>0</td>\n",
       "      <td>0</td>\n",
       "      <td>0</td>\n",
       "    </tr>\n",
       "    <tr>\n",
       "      <th>69120</th>\n",
       "      <td>2020-01-03</td>\n",
       "      <td>IN</td>\n",
       "      <td>India</td>\n",
       "      <td>SEARO</td>\n",
       "      <td>0</td>\n",
       "      <td>0</td>\n",
       "      <td>0</td>\n",
       "      <td>0</td>\n",
       "    </tr>\n",
       "    <tr>\n",
       "      <th>101520</th>\n",
       "      <td>2020-01-03</td>\n",
       "      <td>MZ</td>\n",
       "      <td>Mozambique</td>\n",
       "      <td>AFRO</td>\n",
       "      <td>0</td>\n",
       "      <td>0</td>\n",
       "      <td>0</td>\n",
       "      <td>0</td>\n",
       "    </tr>\n",
       "    <tr>\n",
       "      <th>28080</th>\n",
       "      <td>2020-01-03</td>\n",
       "      <td>CF</td>\n",
       "      <td>Central African Republic</td>\n",
       "      <td>AFRO</td>\n",
       "      <td>0</td>\n",
       "      <td>0</td>\n",
       "      <td>0</td>\n",
       "      <td>0</td>\n",
       "    </tr>\n",
       "    <tr>\n",
       "      <th>155520</th>\n",
       "      <td>2020-01-03</td>\n",
       "      <td>TT</td>\n",
       "      <td>Trinidad and Tobago</td>\n",
       "      <td>AMRO</td>\n",
       "      <td>0</td>\n",
       "      <td>0</td>\n",
       "      <td>0</td>\n",
       "      <td>0</td>\n",
       "    </tr>\n",
       "    <tr>\n",
       "      <th>...</th>\n",
       "      <td>...</td>\n",
       "      <td>...</td>\n",
       "      <td>...</td>\n",
       "      <td>...</td>\n",
       "      <td>...</td>\n",
       "      <td>...</td>\n",
       "      <td>...</td>\n",
       "      <td>...</td>\n",
       "    </tr>\n",
       "    <tr>\n",
       "      <th>133199</th>\n",
       "      <td>2021-12-22</td>\n",
       "      <td>VC</td>\n",
       "      <td>Saint Vincent and the Grenadines</td>\n",
       "      <td>AMRO</td>\n",
       "      <td>8</td>\n",
       "      <td>5784</td>\n",
       "      <td>2</td>\n",
       "      <td>79</td>\n",
       "    </tr>\n",
       "    <tr>\n",
       "      <th>36719</th>\n",
       "      <td>2021-12-22</td>\n",
       "      <td>CU</td>\n",
       "      <td>Cuba</td>\n",
       "      <td>AMRO</td>\n",
       "      <td>61</td>\n",
       "      <td>964237</td>\n",
       "      <td>1</td>\n",
       "      <td>8316</td>\n",
       "    </tr>\n",
       "    <tr>\n",
       "      <th>133919</th>\n",
       "      <td>2021-12-22</td>\n",
       "      <td>WS</td>\n",
       "      <td>Samoa</td>\n",
       "      <td>WPRO</td>\n",
       "      <td>0</td>\n",
       "      <td>2</td>\n",
       "      <td>0</td>\n",
       "      <td>0</td>\n",
       "    </tr>\n",
       "    <tr>\n",
       "      <th>38879</th>\n",
       "      <td>2021-12-22</td>\n",
       "      <td>CZ</td>\n",
       "      <td>Czechia</td>\n",
       "      <td>EURO</td>\n",
       "      <td>11854</td>\n",
       "      <td>2427478</td>\n",
       "      <td>93</td>\n",
       "      <td>35494</td>\n",
       "    </tr>\n",
       "    <tr>\n",
       "      <th>170639</th>\n",
       "      <td>2021-12-22</td>\n",
       "      <td>ZW</td>\n",
       "      <td>Zimbabwe</td>\n",
       "      <td>AFRO</td>\n",
       "      <td>2689</td>\n",
       "      <td>197768</td>\n",
       "      <td>14</td>\n",
       "      <td>4819</td>\n",
       "    </tr>\n",
       "  </tbody>\n",
       "</table>\n",
       "<p>170640 rows × 8 columns</p>\n",
       "</div>"
      ],
      "text/plain": [
       "       Date_reported Country_code                           Country  \\\n",
       "0         2020-01-03           AF                       Afghanistan   \n",
       "69120     2020-01-03           IN                             India   \n",
       "101520    2020-01-03           MZ                        Mozambique   \n",
       "28080     2020-01-03           CF          Central African Republic   \n",
       "155520    2020-01-03           TT               Trinidad and Tobago   \n",
       "...              ...          ...                               ...   \n",
       "133199    2021-12-22           VC  Saint Vincent and the Grenadines   \n",
       "36719     2021-12-22           CU                              Cuba   \n",
       "133919    2021-12-22           WS                             Samoa   \n",
       "38879     2021-12-22           CZ                           Czechia   \n",
       "170639    2021-12-22           ZW                          Zimbabwe   \n",
       "\n",
       "       WHO_region  New_cases  Cumulative_cases  New_deaths  Cumulative_deaths  \n",
       "0            EMRO          0                 0           0                  0  \n",
       "69120       SEARO          0                 0           0                  0  \n",
       "101520       AFRO          0                 0           0                  0  \n",
       "28080        AFRO          0                 0           0                  0  \n",
       "155520       AMRO          0                 0           0                  0  \n",
       "...           ...        ...               ...         ...                ...  \n",
       "133199       AMRO          8              5784           2                 79  \n",
       "36719        AMRO         61            964237           1               8316  \n",
       "133919       WPRO          0                 2           0                  0  \n",
       "38879        EURO      11854           2427478          93              35494  \n",
       "170639       AFRO       2689            197768          14               4819  \n",
       "\n",
       "[170640 rows x 8 columns]"
      ]
     },
     "execution_count": 6,
     "metadata": {},
     "output_type": "execute_result"
    }
   ],
   "source": [
    "# Importer les données provenant de l'OMS (Organisation Mondiale de la Santé)\n",
    "# 1ère exploration des colonnes\n",
    "WHO = pd.read_csv('S1 WHO-COVID-19-global-data.csv')\n",
    "WHO.sort_values(by='Date_reported')"
   ]
  },
  {
   "cell_type": "raw",
   "metadata": {},
   "source": [
    "Nous avons donc des données journalières, du 3 janvier 2020 au 22 décembre 2021"
   ]
  },
  {
   "cell_type": "code",
   "execution_count": 3,
   "metadata": {},
   "outputs": [
    {
     "data": {
      "text/plain": [
       "Date_reported        object\n",
       "Country_code         object\n",
       "Country              object\n",
       "WHO_region           object\n",
       "New_cases             int64\n",
       "Cumulative_cases      int64\n",
       "New_deaths            int64\n",
       "Cumulative_deaths     int64\n",
       "dtype: object"
      ]
     },
     "execution_count": 3,
     "metadata": {},
     "output_type": "execute_result"
    }
   ],
   "source": [
    "WHO.dtypes"
   ]
  },
  {
   "cell_type": "code",
   "execution_count": 7,
   "metadata": {},
   "outputs": [
    {
     "data": {
      "text/html": [
       "<div>\n",
       "<style scoped>\n",
       "    .dataframe tbody tr th:only-of-type {\n",
       "        vertical-align: middle;\n",
       "    }\n",
       "\n",
       "    .dataframe tbody tr th {\n",
       "        vertical-align: top;\n",
       "    }\n",
       "\n",
       "    .dataframe thead th {\n",
       "        text-align: right;\n",
       "    }\n",
       "</style>\n",
       "<table border=\"1\" class=\"dataframe\">\n",
       "  <thead>\n",
       "    <tr style=\"text-align: right;\">\n",
       "      <th></th>\n",
       "      <th>Date_reported</th>\n",
       "      <th>Country_code</th>\n",
       "      <th>Country</th>\n",
       "      <th>WHO_region</th>\n",
       "      <th>New_cases</th>\n",
       "      <th>Cumulative_cases</th>\n",
       "      <th>New_deaths</th>\n",
       "      <th>Cumulative_deaths</th>\n",
       "    </tr>\n",
       "  </thead>\n",
       "  <tbody>\n",
       "    <tr>\n",
       "      <th>0</th>\n",
       "      <td>2020-01-03</td>\n",
       "      <td>AF</td>\n",
       "      <td>Afghanistan</td>\n",
       "      <td>Moyen Orient</td>\n",
       "      <td>0</td>\n",
       "      <td>0</td>\n",
       "      <td>0</td>\n",
       "      <td>0</td>\n",
       "    </tr>\n",
       "    <tr>\n",
       "      <th>1</th>\n",
       "      <td>2020-01-04</td>\n",
       "      <td>AF</td>\n",
       "      <td>Afghanistan</td>\n",
       "      <td>Moyen Orient</td>\n",
       "      <td>0</td>\n",
       "      <td>0</td>\n",
       "      <td>0</td>\n",
       "      <td>0</td>\n",
       "    </tr>\n",
       "    <tr>\n",
       "      <th>2</th>\n",
       "      <td>2020-01-05</td>\n",
       "      <td>AF</td>\n",
       "      <td>Afghanistan</td>\n",
       "      <td>Moyen Orient</td>\n",
       "      <td>0</td>\n",
       "      <td>0</td>\n",
       "      <td>0</td>\n",
       "      <td>0</td>\n",
       "    </tr>\n",
       "    <tr>\n",
       "      <th>3</th>\n",
       "      <td>2020-01-06</td>\n",
       "      <td>AF</td>\n",
       "      <td>Afghanistan</td>\n",
       "      <td>Moyen Orient</td>\n",
       "      <td>0</td>\n",
       "      <td>0</td>\n",
       "      <td>0</td>\n",
       "      <td>0</td>\n",
       "    </tr>\n",
       "    <tr>\n",
       "      <th>4</th>\n",
       "      <td>2020-01-07</td>\n",
       "      <td>AF</td>\n",
       "      <td>Afghanistan</td>\n",
       "      <td>Moyen Orient</td>\n",
       "      <td>0</td>\n",
       "      <td>0</td>\n",
       "      <td>0</td>\n",
       "      <td>0</td>\n",
       "    </tr>\n",
       "    <tr>\n",
       "      <th>...</th>\n",
       "      <td>...</td>\n",
       "      <td>...</td>\n",
       "      <td>...</td>\n",
       "      <td>...</td>\n",
       "      <td>...</td>\n",
       "      <td>...</td>\n",
       "      <td>...</td>\n",
       "      <td>...</td>\n",
       "    </tr>\n",
       "    <tr>\n",
       "      <th>170635</th>\n",
       "      <td>2021-12-18</td>\n",
       "      <td>ZW</td>\n",
       "      <td>Zimbabwe</td>\n",
       "      <td>Afrique</td>\n",
       "      <td>3263</td>\n",
       "      <td>189567</td>\n",
       "      <td>8</td>\n",
       "      <td>4779</td>\n",
       "    </tr>\n",
       "    <tr>\n",
       "      <th>170636</th>\n",
       "      <td>2021-12-19</td>\n",
       "      <td>ZW</td>\n",
       "      <td>Zimbabwe</td>\n",
       "      <td>Afrique</td>\n",
       "      <td>2106</td>\n",
       "      <td>191673</td>\n",
       "      <td>3</td>\n",
       "      <td>4782</td>\n",
       "    </tr>\n",
       "    <tr>\n",
       "      <th>170637</th>\n",
       "      <td>2021-12-20</td>\n",
       "      <td>ZW</td>\n",
       "      <td>Zimbabwe</td>\n",
       "      <td>Afrique</td>\n",
       "      <td>1123</td>\n",
       "      <td>192796</td>\n",
       "      <td>5</td>\n",
       "      <td>4787</td>\n",
       "    </tr>\n",
       "    <tr>\n",
       "      <th>170638</th>\n",
       "      <td>2021-12-21</td>\n",
       "      <td>ZW</td>\n",
       "      <td>Zimbabwe</td>\n",
       "      <td>Afrique</td>\n",
       "      <td>2283</td>\n",
       "      <td>195079</td>\n",
       "      <td>18</td>\n",
       "      <td>4805</td>\n",
       "    </tr>\n",
       "    <tr>\n",
       "      <th>170639</th>\n",
       "      <td>2021-12-22</td>\n",
       "      <td>ZW</td>\n",
       "      <td>Zimbabwe</td>\n",
       "      <td>Afrique</td>\n",
       "      <td>2689</td>\n",
       "      <td>197768</td>\n",
       "      <td>14</td>\n",
       "      <td>4819</td>\n",
       "    </tr>\n",
       "  </tbody>\n",
       "</table>\n",
       "<p>170640 rows × 8 columns</p>\n",
       "</div>"
      ],
      "text/plain": [
       "       Date_reported Country_code      Country    WHO_region  New_cases  \\\n",
       "0         2020-01-03           AF  Afghanistan  Moyen Orient          0   \n",
       "1         2020-01-04           AF  Afghanistan  Moyen Orient          0   \n",
       "2         2020-01-05           AF  Afghanistan  Moyen Orient          0   \n",
       "3         2020-01-06           AF  Afghanistan  Moyen Orient          0   \n",
       "4         2020-01-07           AF  Afghanistan  Moyen Orient          0   \n",
       "...              ...          ...          ...           ...        ...   \n",
       "170635    2021-12-18           ZW     Zimbabwe       Afrique       3263   \n",
       "170636    2021-12-19           ZW     Zimbabwe       Afrique       2106   \n",
       "170637    2021-12-20           ZW     Zimbabwe       Afrique       1123   \n",
       "170638    2021-12-21           ZW     Zimbabwe       Afrique       2283   \n",
       "170639    2021-12-22           ZW     Zimbabwe       Afrique       2689   \n",
       "\n",
       "        Cumulative_cases  New_deaths  Cumulative_deaths  \n",
       "0                      0           0                  0  \n",
       "1                      0           0                  0  \n",
       "2                      0           0                  0  \n",
       "3                      0           0                  0  \n",
       "4                      0           0                  0  \n",
       "...                  ...         ...                ...  \n",
       "170635            189567           8               4779  \n",
       "170636            191673           3               4782  \n",
       "170637            192796           5               4787  \n",
       "170638            195079          18               4805  \n",
       "170639            197768          14               4819  \n",
       "\n",
       "[170640 rows x 8 columns]"
      ]
     },
     "execution_count": 7,
     "metadata": {},
     "output_type": "execute_result"
    }
   ],
   "source": [
    "# Remplacer le jargon interne à l'OMS par une formulation plus compréhensible\n",
    "dictionary = {'EMRO':'Moyen Orient', \n",
    "              'AFRO':'Afrique',\n",
    "              'EURO':'Europe + ex URSS',\n",
    "              'AMRO':'Amériques',\n",
    "              'WPRO':'Pacifique Ouest',\n",
    "              'SEARO':'Asie du SE'}\n",
    "for key in dictionary.keys():\n",
    "    WHO['WHO_region'].replace(key, dictionary[key], inplace=True)\n",
    "WHO"
   ]
  },
  {
   "cell_type": "raw",
   "metadata": {},
   "source": [
    "Pour affiner ultérieurement mon étude je décide de créer une colonne 'OCDE'. J'aurai également pu restreindre mon fichier via une jointure mais dans ce cas, les informations sur les autres pays sont perdues, obligeant à jongler entre fichiers complets et restreints."
   ]
  },
  {
   "cell_type": "markdown",
   "metadata": {},
   "source": [
    "# Créer une colonne 'OCDE'"
   ]
  },
  {
   "cell_type": "code",
   "execution_count": 3,
   "metadata": {},
   "outputs": [
    {
     "data": {
      "text/html": [
       "<div>\n",
       "<style scoped>\n",
       "    .dataframe tbody tr th:only-of-type {\n",
       "        vertical-align: middle;\n",
       "    }\n",
       "\n",
       "    .dataframe tbody tr th {\n",
       "        vertical-align: top;\n",
       "    }\n",
       "\n",
       "    .dataframe thead th {\n",
       "        text-align: right;\n",
       "    }\n",
       "</style>\n",
       "<table border=\"1\" class=\"dataframe\">\n",
       "  <thead>\n",
       "    <tr style=\"text-align: right;\">\n",
       "      <th></th>\n",
       "      <th>Pays de l'OCDE</th>\n",
       "    </tr>\n",
       "  </thead>\n",
       "  <tbody>\n",
       "    <tr>\n",
       "      <th>0</th>\n",
       "      <td>AUSTRALIA</td>\n",
       "    </tr>\n",
       "    <tr>\n",
       "      <th>1</th>\n",
       "      <td>AUSTRIA</td>\n",
       "    </tr>\n",
       "    <tr>\n",
       "      <th>2</th>\n",
       "      <td>BELGIUM</td>\n",
       "    </tr>\n",
       "    <tr>\n",
       "      <th>3</th>\n",
       "      <td>CANADA</td>\n",
       "    </tr>\n",
       "    <tr>\n",
       "      <th>4</th>\n",
       "      <td>CHILE</td>\n",
       "    </tr>\n",
       "  </tbody>\n",
       "</table>\n",
       "</div>"
      ],
      "text/plain": [
       "  Pays de l'OCDE\n",
       "0      AUSTRALIA\n",
       "1        AUSTRIA\n",
       "2        BELGIUM\n",
       "3         CANADA\n",
       "4          CHILE"
      ]
     },
     "execution_count": 3,
     "metadata": {},
     "output_type": "execute_result"
    }
   ],
   "source": [
    "# Upload\n",
    "OCDE=pd.read_csv('OCDE.csv')\n",
    "OCDE.head()"
   ]
  },
  {
   "cell_type": "code",
   "execution_count": 4,
   "metadata": {},
   "outputs": [
    {
     "data": {
      "text/html": [
       "<div>\n",
       "<style scoped>\n",
       "    .dataframe tbody tr th:only-of-type {\n",
       "        vertical-align: middle;\n",
       "    }\n",
       "\n",
       "    .dataframe tbody tr th {\n",
       "        vertical-align: top;\n",
       "    }\n",
       "\n",
       "    .dataframe thead th {\n",
       "        text-align: right;\n",
       "    }\n",
       "</style>\n",
       "<table border=\"1\" class=\"dataframe\">\n",
       "  <thead>\n",
       "    <tr style=\"text-align: right;\">\n",
       "      <th></th>\n",
       "      <th>Pays de l'OCDE</th>\n",
       "      <th>Pays</th>\n",
       "    </tr>\n",
       "  </thead>\n",
       "  <tbody>\n",
       "    <tr>\n",
       "      <th>0</th>\n",
       "      <td>AUSTRALIA</td>\n",
       "      <td>Australia</td>\n",
       "    </tr>\n",
       "    <tr>\n",
       "      <th>1</th>\n",
       "      <td>AUSTRIA</td>\n",
       "      <td>Austria</td>\n",
       "    </tr>\n",
       "    <tr>\n",
       "      <th>2</th>\n",
       "      <td>BELGIUM</td>\n",
       "      <td>Belgium</td>\n",
       "    </tr>\n",
       "    <tr>\n",
       "      <th>3</th>\n",
       "      <td>CANADA</td>\n",
       "      <td>Canada</td>\n",
       "    </tr>\n",
       "    <tr>\n",
       "      <th>4</th>\n",
       "      <td>CHILE</td>\n",
       "      <td>Chile</td>\n",
       "    </tr>\n",
       "  </tbody>\n",
       "</table>\n",
       "</div>"
      ],
      "text/plain": [
       "  Pays de l'OCDE       Pays\n",
       "0      AUSTRALIA  Australia\n",
       "1        AUSTRIA    Austria\n",
       "2        BELGIUM    Belgium\n",
       "3         CANADA     Canada\n",
       "4          CHILE      Chile"
      ]
     },
     "execution_count": 4,
     "metadata": {},
     "output_type": "execute_result"
    }
   ],
   "source": [
    "# A l'OCDE, ils aiment les majuscules ... Mettre au format une majuscule puis des minuscules\n",
    "OCDE['Pays'] = OCDE[\"Pays de l'OCDE\"].str.title()\n",
    "OCDE.head()"
   ]
  },
  {
   "cell_type": "code",
   "execution_count": 5,
   "metadata": {},
   "outputs": [
    {
     "data": {
      "text/plain": [
       "['Australia',\n",
       " 'Austria',\n",
       " 'Belgium',\n",
       " 'Canada',\n",
       " 'Chile',\n",
       " 'Colombia',\n",
       " 'Costa Rica',\n",
       " 'Czech Republic',\n",
       " 'Denmark',\n",
       " 'Estonia',\n",
       " 'Finland',\n",
       " 'France',\n",
       " 'Germany',\n",
       " 'Greece',\n",
       " 'Hungary',\n",
       " 'Iceland',\n",
       " 'Ireland',\n",
       " 'Israel',\n",
       " 'Italy',\n",
       " 'Japan',\n",
       " 'Korea',\n",
       " 'Latvia',\n",
       " 'Lithuania',\n",
       " 'Luxembourg',\n",
       " 'Mexico',\n",
       " 'Netherlands',\n",
       " 'New Zealand',\n",
       " 'Norway',\n",
       " 'Poland',\n",
       " 'Portugal',\n",
       " 'Slovak Republic',\n",
       " 'Slovenia',\n",
       " 'Spain',\n",
       " 'Sweden',\n",
       " 'Switzerland',\n",
       " 'Turkey',\n",
       " 'United Kingdom',\n",
       " 'United States']"
      ]
     },
     "execution_count": 5,
     "metadata": {},
     "output_type": "execute_result"
    }
   ],
   "source": [
    "# transformer la colonne en liste (vous comprendrez plus tard pourquoi, peut-être même avez-vous déjà compris)\n",
    "ListOCDE = OCDE[\"Pays\"].to_list()\n",
    "ListOCDE"
   ]
  },
  {
   "cell_type": "code",
   "execution_count": 9,
   "metadata": {},
   "outputs": [
    {
     "data": {
      "text/html": [
       "<div>\n",
       "<style scoped>\n",
       "    .dataframe tbody tr th:only-of-type {\n",
       "        vertical-align: middle;\n",
       "    }\n",
       "\n",
       "    .dataframe tbody tr th {\n",
       "        vertical-align: top;\n",
       "    }\n",
       "\n",
       "    .dataframe thead th {\n",
       "        text-align: right;\n",
       "    }\n",
       "</style>\n",
       "<table border=\"1\" class=\"dataframe\">\n",
       "  <thead>\n",
       "    <tr style=\"text-align: right;\">\n",
       "      <th></th>\n",
       "      <th>Date_reported</th>\n",
       "      <th>Country_code</th>\n",
       "      <th>Country</th>\n",
       "      <th>WHO_region</th>\n",
       "      <th>New_cases</th>\n",
       "      <th>Cumulative_cases</th>\n",
       "      <th>New_deaths</th>\n",
       "      <th>Cumulative_deaths</th>\n",
       "      <th>OCDE</th>\n",
       "    </tr>\n",
       "  </thead>\n",
       "  <tbody>\n",
       "    <tr>\n",
       "      <th>0</th>\n",
       "      <td>2020-01-03</td>\n",
       "      <td>AF</td>\n",
       "      <td>Afghanistan</td>\n",
       "      <td>Moyen Orient</td>\n",
       "      <td>0</td>\n",
       "      <td>0</td>\n",
       "      <td>0</td>\n",
       "      <td>0</td>\n",
       "      <td></td>\n",
       "    </tr>\n",
       "    <tr>\n",
       "      <th>1</th>\n",
       "      <td>2020-01-04</td>\n",
       "      <td>AF</td>\n",
       "      <td>Afghanistan</td>\n",
       "      <td>Moyen Orient</td>\n",
       "      <td>0</td>\n",
       "      <td>0</td>\n",
       "      <td>0</td>\n",
       "      <td>0</td>\n",
       "      <td></td>\n",
       "    </tr>\n",
       "    <tr>\n",
       "      <th>2</th>\n",
       "      <td>2020-01-05</td>\n",
       "      <td>AF</td>\n",
       "      <td>Afghanistan</td>\n",
       "      <td>Moyen Orient</td>\n",
       "      <td>0</td>\n",
       "      <td>0</td>\n",
       "      <td>0</td>\n",
       "      <td>0</td>\n",
       "      <td></td>\n",
       "    </tr>\n",
       "    <tr>\n",
       "      <th>3</th>\n",
       "      <td>2020-01-06</td>\n",
       "      <td>AF</td>\n",
       "      <td>Afghanistan</td>\n",
       "      <td>Moyen Orient</td>\n",
       "      <td>0</td>\n",
       "      <td>0</td>\n",
       "      <td>0</td>\n",
       "      <td>0</td>\n",
       "      <td></td>\n",
       "    </tr>\n",
       "    <tr>\n",
       "      <th>4</th>\n",
       "      <td>2020-01-07</td>\n",
       "      <td>AF</td>\n",
       "      <td>Afghanistan</td>\n",
       "      <td>Moyen Orient</td>\n",
       "      <td>0</td>\n",
       "      <td>0</td>\n",
       "      <td>0</td>\n",
       "      <td>0</td>\n",
       "      <td></td>\n",
       "    </tr>\n",
       "    <tr>\n",
       "      <th>...</th>\n",
       "      <td>...</td>\n",
       "      <td>...</td>\n",
       "      <td>...</td>\n",
       "      <td>...</td>\n",
       "      <td>...</td>\n",
       "      <td>...</td>\n",
       "      <td>...</td>\n",
       "      <td>...</td>\n",
       "      <td>...</td>\n",
       "    </tr>\n",
       "    <tr>\n",
       "      <th>170635</th>\n",
       "      <td>2021-12-18</td>\n",
       "      <td>ZW</td>\n",
       "      <td>Zimbabwe</td>\n",
       "      <td>Afrique</td>\n",
       "      <td>3263</td>\n",
       "      <td>189567</td>\n",
       "      <td>8</td>\n",
       "      <td>4779</td>\n",
       "      <td></td>\n",
       "    </tr>\n",
       "    <tr>\n",
       "      <th>170636</th>\n",
       "      <td>2021-12-19</td>\n",
       "      <td>ZW</td>\n",
       "      <td>Zimbabwe</td>\n",
       "      <td>Afrique</td>\n",
       "      <td>2106</td>\n",
       "      <td>191673</td>\n",
       "      <td>3</td>\n",
       "      <td>4782</td>\n",
       "      <td></td>\n",
       "    </tr>\n",
       "    <tr>\n",
       "      <th>170637</th>\n",
       "      <td>2021-12-20</td>\n",
       "      <td>ZW</td>\n",
       "      <td>Zimbabwe</td>\n",
       "      <td>Afrique</td>\n",
       "      <td>1123</td>\n",
       "      <td>192796</td>\n",
       "      <td>5</td>\n",
       "      <td>4787</td>\n",
       "      <td></td>\n",
       "    </tr>\n",
       "    <tr>\n",
       "      <th>170638</th>\n",
       "      <td>2021-12-21</td>\n",
       "      <td>ZW</td>\n",
       "      <td>Zimbabwe</td>\n",
       "      <td>Afrique</td>\n",
       "      <td>2283</td>\n",
       "      <td>195079</td>\n",
       "      <td>18</td>\n",
       "      <td>4805</td>\n",
       "      <td></td>\n",
       "    </tr>\n",
       "    <tr>\n",
       "      <th>170639</th>\n",
       "      <td>2021-12-22</td>\n",
       "      <td>ZW</td>\n",
       "      <td>Zimbabwe</td>\n",
       "      <td>Afrique</td>\n",
       "      <td>2689</td>\n",
       "      <td>197768</td>\n",
       "      <td>14</td>\n",
       "      <td>4819</td>\n",
       "      <td></td>\n",
       "    </tr>\n",
       "  </tbody>\n",
       "</table>\n",
       "<p>170640 rows × 9 columns</p>\n",
       "</div>"
      ],
      "text/plain": [
       "       Date_reported Country_code      Country    WHO_region  New_cases  \\\n",
       "0         2020-01-03           AF  Afghanistan  Moyen Orient          0   \n",
       "1         2020-01-04           AF  Afghanistan  Moyen Orient          0   \n",
       "2         2020-01-05           AF  Afghanistan  Moyen Orient          0   \n",
       "3         2020-01-06           AF  Afghanistan  Moyen Orient          0   \n",
       "4         2020-01-07           AF  Afghanistan  Moyen Orient          0   \n",
       "...              ...          ...          ...           ...        ...   \n",
       "170635    2021-12-18           ZW     Zimbabwe       Afrique       3263   \n",
       "170636    2021-12-19           ZW     Zimbabwe       Afrique       2106   \n",
       "170637    2021-12-20           ZW     Zimbabwe       Afrique       1123   \n",
       "170638    2021-12-21           ZW     Zimbabwe       Afrique       2283   \n",
       "170639    2021-12-22           ZW     Zimbabwe       Afrique       2689   \n",
       "\n",
       "        Cumulative_cases  New_deaths  Cumulative_deaths OCDE  \n",
       "0                      0           0                  0       \n",
       "1                      0           0                  0       \n",
       "2                      0           0                  0       \n",
       "3                      0           0                  0       \n",
       "4                      0           0                  0       \n",
       "...                  ...         ...                ...  ...  \n",
       "170635            189567           8               4779       \n",
       "170636            191673           3               4782       \n",
       "170637            192796           5               4787       \n",
       "170638            195079          18               4805       \n",
       "170639            197768          14               4819       \n",
       "\n",
       "[170640 rows x 9 columns]"
      ]
     },
     "execution_count": 9,
     "metadata": {},
     "output_type": "execute_result"
    }
   ],
   "source": [
    "# Création d'une colonne vide 'OCDE' dans WHO\n",
    "WHO['OCDE'] = ''\n",
    "\n",
    "# Remplissage de la colonne\n",
    "for item in ListOCDE:                             \n",
    "    WHO['OCDE'] = np.where(WHO['Country'].str.contains(item), 'OCDE', WHO['OCDE'])\n",
    "WHO\n"
   ]
  },
  {
   "cell_type": "markdown",
   "metadata": {},
   "source": [
    "# Table FAO "
   ]
  },
  {
   "cell_type": "code",
   "execution_count": 10,
   "metadata": {},
   "outputs": [
    {
     "data": {
      "text/html": [
       "<div>\n",
       "<style scoped>\n",
       "    .dataframe tbody tr th:only-of-type {\n",
       "        vertical-align: middle;\n",
       "    }\n",
       "\n",
       "    .dataframe tbody tr th {\n",
       "        vertical-align: top;\n",
       "    }\n",
       "\n",
       "    .dataframe thead th {\n",
       "        text-align: right;\n",
       "    }\n",
       "</style>\n",
       "<table border=\"1\" class=\"dataframe\">\n",
       "  <thead>\n",
       "    <tr style=\"text-align: right;\">\n",
       "      <th></th>\n",
       "      <th>Domain Code</th>\n",
       "      <th>Domain</th>\n",
       "      <th>Area Code (FAO)</th>\n",
       "      <th>Area</th>\n",
       "      <th>Element Code</th>\n",
       "      <th>Element</th>\n",
       "      <th>Item Code</th>\n",
       "      <th>Item</th>\n",
       "      <th>Year Code</th>\n",
       "      <th>Year</th>\n",
       "      <th>Unit</th>\n",
       "      <th>Value</th>\n",
       "      <th>Flag</th>\n",
       "      <th>Flag Description</th>\n",
       "      <th>Note</th>\n",
       "    </tr>\n",
       "  </thead>\n",
       "  <tbody>\n",
       "    <tr>\n",
       "      <th>0</th>\n",
       "      <td>OA</td>\n",
       "      <td>Annual population</td>\n",
       "      <td>2</td>\n",
       "      <td>Afghanistan</td>\n",
       "      <td>511</td>\n",
       "      <td>Total Population - Both sexes</td>\n",
       "      <td>3010</td>\n",
       "      <td>Population - Est. &amp; Proj.</td>\n",
       "      <td>2018</td>\n",
       "      <td>2018</td>\n",
       "      <td>1000 persons</td>\n",
       "      <td>37171.921</td>\n",
       "      <td>X</td>\n",
       "      <td>International reliable sources</td>\n",
       "      <td>NaN</td>\n",
       "    </tr>\n",
       "    <tr>\n",
       "      <th>1</th>\n",
       "      <td>OA</td>\n",
       "      <td>Annual population</td>\n",
       "      <td>3</td>\n",
       "      <td>Albania</td>\n",
       "      <td>511</td>\n",
       "      <td>Total Population - Both sexes</td>\n",
       "      <td>3010</td>\n",
       "      <td>Population - Est. &amp; Proj.</td>\n",
       "      <td>2018</td>\n",
       "      <td>2018</td>\n",
       "      <td>1000 persons</td>\n",
       "      <td>2882.740</td>\n",
       "      <td>X</td>\n",
       "      <td>International reliable sources</td>\n",
       "      <td>NaN</td>\n",
       "    </tr>\n",
       "  </tbody>\n",
       "</table>\n",
       "</div>"
      ],
      "text/plain": [
       "  Domain Code             Domain  Area Code (FAO)         Area  Element Code  \\\n",
       "0          OA  Annual population                2  Afghanistan           511   \n",
       "1          OA  Annual population                3      Albania           511   \n",
       "\n",
       "                         Element  Item Code                       Item  \\\n",
       "0  Total Population - Both sexes       3010  Population - Est. & Proj.   \n",
       "1  Total Population - Both sexes       3010  Population - Est. & Proj.   \n",
       "\n",
       "   Year Code  Year          Unit      Value Flag  \\\n",
       "0       2018  2018  1000 persons  37171.921    X   \n",
       "1       2018  2018  1000 persons   2882.740    X   \n",
       "\n",
       "                 Flag Description Note  \n",
       "0  International reliable sources  NaN  \n",
       "1  International reliable sources  NaN  "
      ]
     },
     "execution_count": 10,
     "metadata": {},
     "output_type": "execute_result"
    }
   ],
   "source": [
    "# Upload\n",
    "FAO = pd.read_csv('FAOSTAT population2018.csv')\n",
    "FAO.head(2)"
   ]
  },
  {
   "cell_type": "code",
   "execution_count": 11,
   "metadata": {},
   "outputs": [
    {
     "name": "stderr",
     "output_type": "stream",
     "text": [
      "/opt/anaconda3/lib/python3.8/site-packages/pandas/core/frame.py:4296: SettingWithCopyWarning: \n",
      "A value is trying to be set on a copy of a slice from a DataFrame\n",
      "\n",
      "See the caveats in the documentation: https://pandas.pydata.org/pandas-docs/stable/user_guide/indexing.html#returning-a-view-versus-a-copy\n",
      "  return super().rename(\n"
     ]
    }
   ],
   "source": [
    "# Restreindre aux colonnes qui m'intéressent\n",
    "FAO2= FAO[['Area','Value']]\n",
    "\n",
    "# Donner un nom plus explicite à l'entête de colonne\n",
    "FAO2.rename(columns={'Value':'Population (en 000 pers)'}, inplace=True)\n"
   ]
  },
  {
   "cell_type": "markdown",
   "metadata": {},
   "source": [
    "# Jointure"
   ]
  },
  {
   "cell_type": "code",
   "execution_count": 12,
   "metadata": {},
   "outputs": [
    {
     "data": {
      "text/html": [
       "<div>\n",
       "<style scoped>\n",
       "    .dataframe tbody tr th:only-of-type {\n",
       "        vertical-align: middle;\n",
       "    }\n",
       "\n",
       "    .dataframe tbody tr th {\n",
       "        vertical-align: top;\n",
       "    }\n",
       "\n",
       "    .dataframe thead th {\n",
       "        text-align: right;\n",
       "    }\n",
       "</style>\n",
       "<table border=\"1\" class=\"dataframe\">\n",
       "  <thead>\n",
       "    <tr style=\"text-align: right;\">\n",
       "      <th></th>\n",
       "      <th>Date_reported</th>\n",
       "      <th>Country_code</th>\n",
       "      <th>Country</th>\n",
       "      <th>WHO_region</th>\n",
       "      <th>New_cases</th>\n",
       "      <th>Cumulative_cases</th>\n",
       "      <th>New_deaths</th>\n",
       "      <th>Cumulative_deaths</th>\n",
       "      <th>OCDE</th>\n",
       "      <th>Area</th>\n",
       "      <th>Population (en 000 pers)</th>\n",
       "      <th>_merge</th>\n",
       "    </tr>\n",
       "  </thead>\n",
       "  <tbody>\n",
       "    <tr>\n",
       "      <th>0</th>\n",
       "      <td>2020-01-03</td>\n",
       "      <td>AF</td>\n",
       "      <td>Afghanistan</td>\n",
       "      <td>Moyen Orient</td>\n",
       "      <td>0.0</td>\n",
       "      <td>0.0</td>\n",
       "      <td>0.0</td>\n",
       "      <td>0.0</td>\n",
       "      <td></td>\n",
       "      <td>Afghanistan</td>\n",
       "      <td>37171.921</td>\n",
       "      <td>both</td>\n",
       "    </tr>\n",
       "    <tr>\n",
       "      <th>1</th>\n",
       "      <td>2020-01-04</td>\n",
       "      <td>AF</td>\n",
       "      <td>Afghanistan</td>\n",
       "      <td>Moyen Orient</td>\n",
       "      <td>0.0</td>\n",
       "      <td>0.0</td>\n",
       "      <td>0.0</td>\n",
       "      <td>0.0</td>\n",
       "      <td></td>\n",
       "      <td>Afghanistan</td>\n",
       "      <td>37171.921</td>\n",
       "      <td>both</td>\n",
       "    </tr>\n",
       "  </tbody>\n",
       "</table>\n",
       "</div>"
      ],
      "text/plain": [
       "  Date_reported Country_code      Country    WHO_region  New_cases  \\\n",
       "0    2020-01-03           AF  Afghanistan  Moyen Orient        0.0   \n",
       "1    2020-01-04           AF  Afghanistan  Moyen Orient        0.0   \n",
       "\n",
       "   Cumulative_cases  New_deaths  Cumulative_deaths OCDE         Area  \\\n",
       "0               0.0         0.0                0.0       Afghanistan   \n",
       "1               0.0         0.0                0.0       Afghanistan   \n",
       "\n",
       "   Population (en 000 pers) _merge  \n",
       "0                 37171.921   both  \n",
       "1                 37171.921   both  "
      ]
     },
     "execution_count": 12,
     "metadata": {},
     "output_type": "execute_result"
    }
   ],
   "source": [
    "# Faisons une première jointure exploratoire, avec indicator=True\n",
    "df=pd.merge(left= WHO, right = FAO2, left_on='Country', right_on='Area', how = 'outer',indicator=True)\n",
    "df.head(2)"
   ]
  },
  {
   "cell_type": "code",
   "execution_count": 13,
   "metadata": {},
   "outputs": [
    {
     "data": {
      "text/plain": [
       "both          158400\n",
       "left_only      12240\n",
       "right_only        17\n",
       "Name: _merge, dtype: int64"
      ]
     },
     "execution_count": 13,
     "metadata": {},
     "output_type": "execute_result"
    }
   ],
   "source": [
    "# Quelles sont les lignes qui n'ont pas jointé?\n",
    "df['_merge'].value_counts()"
   ]
  },
  {
   "cell_type": "code",
   "execution_count": 14,
   "metadata": {},
   "outputs": [
    {
     "data": {
      "text/plain": [
       "array(['Bonaire', 'Côte d’Ivoire', 'French Guiana', 'Guernsey', 'Jersey',\n",
       "       'Kosovo[1]', 'Northern Mariana Islands (Commonwealth of the)',\n",
       "       'occupied Palestinian territory, including east Jerusalem',\n",
       "       'Other', 'Pitcairn Islands', 'Saba', 'Saint Helena',\n",
       "       'Saint Martin', 'Sint Eustatius', 'Sint Maarten',\n",
       "       'The United Kingdom', 'Wallis and Futuna'], dtype=object)"
      ]
     },
     "execution_count": 14,
     "metadata": {},
     "output_type": "execute_result"
    }
   ],
   "source": [
    "# Lignes pour lesquelles il manque la population\n",
    "PbFAO= df.loc[df['_merge']=='left_only']\n",
    "PbFAO['Country'].unique()"
   ]
  },
  {
   "cell_type": "code",
   "execution_count": 15,
   "metadata": {},
   "outputs": [
    {
     "data": {
      "text/plain": [
       "array(['Bonaire, Sint Eustatius and Saba', 'Channel Islands',\n",
       "       'China, Hong Kong SAR', 'China, Macao SAR', 'China, mainland',\n",
       "       'China, Taiwan Province of', \"Côte d'Ivoire\", 'French Guyana',\n",
       "       'Netherlands Antilles (former)', 'Northern Mariana Islands',\n",
       "       'Palestine', 'Saint Helena, Ascension and Tristan da Cunha',\n",
       "       'Saint-Martin (French part)', 'Sint Maarten (Dutch part)',\n",
       "       'United Kingdom of Great Britain and Northern Ireland',\n",
       "       'Wallis and Futuna Islands', 'Western Sahara'], dtype=object)"
      ]
     },
     "execution_count": 15,
     "metadata": {},
     "output_type": "execute_result"
    }
   ],
   "source": [
    "# Lignes pour lesquelles il manque le nb de décès\n",
    "PbWHO= df.loc[df['_merge']=='right_only']\n",
    "PbWHO['Area'].unique()"
   ]
  },
  {
   "cell_type": "raw",
   "metadata": {},
   "source": [
    "La plupart sont des territoires d'outremer, qui ne figurent pas dans le fichier de l'OMS. \n",
    "Il faut par contre traiter le Kosovo, la Côte d'Ivoire, le Royaume Unis, la Chine ('China, Hong Kong SAR'+'China, Macao SAR'+'China, mainland'), Taiwan et la Palestine."
   ]
  },
  {
   "cell_type": "code",
   "execution_count": 16,
   "metadata": {},
   "outputs": [
    {
     "name": "stderr",
     "output_type": "stream",
     "text": [
      "/opt/anaconda3/lib/python3.8/site-packages/pandas/core/indexing.py:1765: SettingWithCopyWarning: \n",
      "A value is trying to be set on a copy of a slice from a DataFrame.\n",
      "Try using .loc[row_indexer,col_indexer] = value instead\n",
      "\n",
      "See the caveats in the documentation: https://pandas.pydata.org/pandas-docs/stable/user_guide/indexing.html#returning-a-view-versus-a-copy\n",
      "  isetter(loc, value)\n"
     ]
    }
   ],
   "source": [
    "# Traitement de la Palestine, la Côte d'Ivoire et du Royaume Uni\n",
    "# Identifier l'index \n",
    "FAO2.loc[FAO2['Area']=='Palestine']\n",
    "\n",
    "# Changer la valeur\n",
    "FAO2.loc[162,'Area']='occupied Palestinian territory, including east Jerusalem'\n",
    "FAO2.loc[223,'Area']='The United Kingdom'\n",
    "FAO2.loc[53,'Area']=\"Côte d'Ivoire\" "
   ]
  },
  {
   "cell_type": "code",
   "execution_count": 17,
   "metadata": {},
   "outputs": [
    {
     "data": {
      "text/html": [
       "<div>\n",
       "<style scoped>\n",
       "    .dataframe tbody tr th:only-of-type {\n",
       "        vertical-align: middle;\n",
       "    }\n",
       "\n",
       "    .dataframe tbody tr th {\n",
       "        vertical-align: top;\n",
       "    }\n",
       "\n",
       "    .dataframe thead th {\n",
       "        text-align: right;\n",
       "    }\n",
       "</style>\n",
       "<table border=\"1\" class=\"dataframe\">\n",
       "  <thead>\n",
       "    <tr style=\"text-align: right;\">\n",
       "      <th></th>\n",
       "      <th>Area</th>\n",
       "      <th>Population (en 000 pers)</th>\n",
       "    </tr>\n",
       "  </thead>\n",
       "  <tbody>\n",
       "    <tr>\n",
       "      <th>43</th>\n",
       "      <td>China</td>\n",
       "      <td>1459377.612</td>\n",
       "    </tr>\n",
       "    <tr>\n",
       "      <th>44</th>\n",
       "      <td>China, Hong Kong SAR</td>\n",
       "      <td>7371.730</td>\n",
       "    </tr>\n",
       "    <tr>\n",
       "      <th>45</th>\n",
       "      <td>China, Macao SAR</td>\n",
       "      <td>631.636</td>\n",
       "    </tr>\n",
       "    <tr>\n",
       "      <th>46</th>\n",
       "      <td>China, mainland</td>\n",
       "      <td>1427647.786</td>\n",
       "    </tr>\n",
       "    <tr>\n",
       "      <th>47</th>\n",
       "      <td>China, Taiwan Province of</td>\n",
       "      <td>23726.460</td>\n",
       "    </tr>\n",
       "  </tbody>\n",
       "</table>\n",
       "</div>"
      ],
      "text/plain": [
       "                         Area  Population (en 000 pers)\n",
       "43                      China               1459377.612\n",
       "44       China, Hong Kong SAR                  7371.730\n",
       "45           China, Macao SAR                   631.636\n",
       "46            China, mainland               1427647.786\n",
       "47  China, Taiwan Province of                 23726.460"
      ]
     },
     "execution_count": 17,
     "metadata": {},
     "output_type": "execute_result"
    }
   ],
   "source": [
    "# Traitement des lignes concernant la Chine\n",
    "FAO2.loc[FAO2['Area'].str.contains('China', case=False)]"
   ]
  },
  {
   "cell_type": "code",
   "execution_count": 18,
   "metadata": {},
   "outputs": [
    {
     "data": {
      "text/plain": [
       "array(['Botswana', 'Rwanda'], dtype=object)"
      ]
     },
     "execution_count": 18,
     "metadata": {},
     "output_type": "execute_result"
    }
   ],
   "source": [
    "W=WHO.loc[WHO['Country'].str.contains('wan', case=False)]  # Car le i de Taiwan pose pb\n",
    "W['Country'].unique()"
   ]
  },
  {
   "cell_type": "raw",
   "metadata": {},
   "source": [
    "Seule la ligne China nous intéresse. Nous laisserons la jointure nous débarrasser des subdivisions.\n",
    "Taïwan n'est pas reconnu par l'ONU. Il n'y a pas de données le concernant dans le fichier WHO. Nous devons l'abandonner."
   ]
  },
  {
   "cell_type": "raw",
   "metadata": {},
   "source": [
    "Traitement du Kosovo\n",
    "Ce pays n'est pas reconnu par l'ONU => ne figure pas dans le fichier de la FAO. Je renseigne avec une valeur pour la population trouvée sur internet:"
   ]
  },
  {
   "cell_type": "code",
   "execution_count": 19,
   "metadata": {},
   "outputs": [
    {
     "data": {
      "text/html": [
       "<div>\n",
       "<style scoped>\n",
       "    .dataframe tbody tr th:only-of-type {\n",
       "        vertical-align: middle;\n",
       "    }\n",
       "\n",
       "    .dataframe tbody tr th {\n",
       "        vertical-align: top;\n",
       "    }\n",
       "\n",
       "    .dataframe thead th {\n",
       "        text-align: right;\n",
       "    }\n",
       "</style>\n",
       "<table border=\"1\" class=\"dataframe\">\n",
       "  <thead>\n",
       "    <tr style=\"text-align: right;\">\n",
       "      <th></th>\n",
       "      <th>Area</th>\n",
       "      <th>Population (en 000 pers)</th>\n",
       "    </tr>\n",
       "  </thead>\n",
       "  <tbody>\n",
       "    <tr>\n",
       "      <th>233</th>\n",
       "      <td>Western Sahara</td>\n",
       "      <td>567.402</td>\n",
       "    </tr>\n",
       "    <tr>\n",
       "      <th>234</th>\n",
       "      <td>Yemen</td>\n",
       "      <td>28498.683</td>\n",
       "    </tr>\n",
       "    <tr>\n",
       "      <th>235</th>\n",
       "      <td>Zambia</td>\n",
       "      <td>17351.708</td>\n",
       "    </tr>\n",
       "    <tr>\n",
       "      <th>236</th>\n",
       "      <td>Zimbabwe</td>\n",
       "      <td>14438.802</td>\n",
       "    </tr>\n",
       "    <tr>\n",
       "      <th>237</th>\n",
       "      <td>Kosovo[1]</td>\n",
       "      <td>1700.000</td>\n",
       "    </tr>\n",
       "  </tbody>\n",
       "</table>\n",
       "</div>"
      ],
      "text/plain": [
       "               Area  Population (en 000 pers)\n",
       "233  Western Sahara                   567.402\n",
       "234           Yemen                 28498.683\n",
       "235          Zambia                 17351.708\n",
       "236        Zimbabwe                 14438.802\n",
       "237       Kosovo[1]                  1700.000"
      ]
     },
     "execution_count": 19,
     "metadata": {},
     "output_type": "execute_result"
    }
   ],
   "source": [
    "# créer un df avec une seule ligne\n",
    "ligne = pd.DataFrame([['Kosovo[1]', 1700]])\n",
    "ligne.columns=['Area','Population (en 000 pers)']\n",
    "# l'ajouter à la fin de Pop2\n",
    "FAO3=FAO2.append(ligne, ignore_index=True)\n",
    "FAO3.tail()"
   ]
  },
  {
   "cell_type": "markdown",
   "metadata": {},
   "source": [
    "# Jointure et création de la colonne nb décès/million d'habitants !"
   ]
  },
  {
   "cell_type": "code",
   "execution_count": 20,
   "metadata": {},
   "outputs": [
    {
     "data": {
      "text/html": [
       "<div>\n",
       "<style scoped>\n",
       "    .dataframe tbody tr th:only-of-type {\n",
       "        vertical-align: middle;\n",
       "    }\n",
       "\n",
       "    .dataframe tbody tr th {\n",
       "        vertical-align: top;\n",
       "    }\n",
       "\n",
       "    .dataframe thead th {\n",
       "        text-align: right;\n",
       "    }\n",
       "</style>\n",
       "<table border=\"1\" class=\"dataframe\">\n",
       "  <thead>\n",
       "    <tr style=\"text-align: right;\">\n",
       "      <th></th>\n",
       "      <th>Date_reported</th>\n",
       "      <th>Country_code</th>\n",
       "      <th>Country</th>\n",
       "      <th>WHO_region</th>\n",
       "      <th>New_cases</th>\n",
       "      <th>Cumulative_cases</th>\n",
       "      <th>New_deaths</th>\n",
       "      <th>Cumulative_deaths</th>\n",
       "      <th>OCDE</th>\n",
       "      <th>Area</th>\n",
       "      <th>Population (en 000 pers)</th>\n",
       "    </tr>\n",
       "  </thead>\n",
       "  <tbody>\n",
       "    <tr>\n",
       "      <th>0</th>\n",
       "      <td>2020-01-03</td>\n",
       "      <td>AF</td>\n",
       "      <td>Afghanistan</td>\n",
       "      <td>Moyen Orient</td>\n",
       "      <td>0</td>\n",
       "      <td>0</td>\n",
       "      <td>0</td>\n",
       "      <td>0</td>\n",
       "      <td></td>\n",
       "      <td>Afghanistan</td>\n",
       "      <td>37171.921</td>\n",
       "    </tr>\n",
       "    <tr>\n",
       "      <th>1</th>\n",
       "      <td>2020-01-04</td>\n",
       "      <td>AF</td>\n",
       "      <td>Afghanistan</td>\n",
       "      <td>Moyen Orient</td>\n",
       "      <td>0</td>\n",
       "      <td>0</td>\n",
       "      <td>0</td>\n",
       "      <td>0</td>\n",
       "      <td></td>\n",
       "      <td>Afghanistan</td>\n",
       "      <td>37171.921</td>\n",
       "    </tr>\n",
       "    <tr>\n",
       "      <th>2</th>\n",
       "      <td>2020-01-05</td>\n",
       "      <td>AF</td>\n",
       "      <td>Afghanistan</td>\n",
       "      <td>Moyen Orient</td>\n",
       "      <td>0</td>\n",
       "      <td>0</td>\n",
       "      <td>0</td>\n",
       "      <td>0</td>\n",
       "      <td></td>\n",
       "      <td>Afghanistan</td>\n",
       "      <td>37171.921</td>\n",
       "    </tr>\n",
       "    <tr>\n",
       "      <th>3</th>\n",
       "      <td>2020-01-06</td>\n",
       "      <td>AF</td>\n",
       "      <td>Afghanistan</td>\n",
       "      <td>Moyen Orient</td>\n",
       "      <td>0</td>\n",
       "      <td>0</td>\n",
       "      <td>0</td>\n",
       "      <td>0</td>\n",
       "      <td></td>\n",
       "      <td>Afghanistan</td>\n",
       "      <td>37171.921</td>\n",
       "    </tr>\n",
       "    <tr>\n",
       "      <th>4</th>\n",
       "      <td>2020-01-07</td>\n",
       "      <td>AF</td>\n",
       "      <td>Afghanistan</td>\n",
       "      <td>Moyen Orient</td>\n",
       "      <td>0</td>\n",
       "      <td>0</td>\n",
       "      <td>0</td>\n",
       "      <td>0</td>\n",
       "      <td></td>\n",
       "      <td>Afghanistan</td>\n",
       "      <td>37171.921</td>\n",
       "    </tr>\n",
       "  </tbody>\n",
       "</table>\n",
       "</div>"
      ],
      "text/plain": [
       "  Date_reported Country_code      Country    WHO_region  New_cases  \\\n",
       "0    2020-01-03           AF  Afghanistan  Moyen Orient          0   \n",
       "1    2020-01-04           AF  Afghanistan  Moyen Orient          0   \n",
       "2    2020-01-05           AF  Afghanistan  Moyen Orient          0   \n",
       "3    2020-01-06           AF  Afghanistan  Moyen Orient          0   \n",
       "4    2020-01-07           AF  Afghanistan  Moyen Orient          0   \n",
       "\n",
       "   Cumulative_cases  New_deaths  Cumulative_deaths OCDE         Area  \\\n",
       "0                 0           0                  0       Afghanistan   \n",
       "1                 0           0                  0       Afghanistan   \n",
       "2                 0           0                  0       Afghanistan   \n",
       "3                 0           0                  0       Afghanistan   \n",
       "4                 0           0                  0       Afghanistan   \n",
       "\n",
       "   Population (en 000 pers)  \n",
       "0                 37171.921  \n",
       "1                 37171.921  \n",
       "2                 37171.921  \n",
       "3                 37171.921  \n",
       "4                 37171.921  "
      ]
     },
     "execution_count": 20,
     "metadata": {},
     "output_type": "execute_result"
    }
   ],
   "source": [
    "# Joindre les 2 df (après réintégration du Kosovo et de la Palestine)\n",
    "df=pd.merge(left= WHO, right = FAO3, left_on='Country', right_on='Area', how='left')\n",
    "df.head()"
   ]
  },
  {
   "cell_type": "code",
   "execution_count": 21,
   "metadata": {},
   "outputs": [
    {
     "data": {
      "text/html": [
       "<div>\n",
       "<style scoped>\n",
       "    .dataframe tbody tr th:only-of-type {\n",
       "        vertical-align: middle;\n",
       "    }\n",
       "\n",
       "    .dataframe tbody tr th {\n",
       "        vertical-align: top;\n",
       "    }\n",
       "\n",
       "    .dataframe thead th {\n",
       "        text-align: right;\n",
       "    }\n",
       "</style>\n",
       "<table border=\"1\" class=\"dataframe\">\n",
       "  <thead>\n",
       "    <tr style=\"text-align: right;\">\n",
       "      <th></th>\n",
       "      <th>Date_reported</th>\n",
       "      <th>Country</th>\n",
       "      <th>WHO_region</th>\n",
       "      <th>New_deaths</th>\n",
       "      <th>OCDE</th>\n",
       "      <th>Population (en 000 pers)</th>\n",
       "    </tr>\n",
       "  </thead>\n",
       "  <tbody>\n",
       "    <tr>\n",
       "      <th>0</th>\n",
       "      <td>2020-01-03</td>\n",
       "      <td>Afghanistan</td>\n",
       "      <td>Moyen Orient</td>\n",
       "      <td>0</td>\n",
       "      <td></td>\n",
       "      <td>37171.921</td>\n",
       "    </tr>\n",
       "    <tr>\n",
       "      <th>1</th>\n",
       "      <td>2020-01-04</td>\n",
       "      <td>Afghanistan</td>\n",
       "      <td>Moyen Orient</td>\n",
       "      <td>0</td>\n",
       "      <td></td>\n",
       "      <td>37171.921</td>\n",
       "    </tr>\n",
       "    <tr>\n",
       "      <th>2</th>\n",
       "      <td>2020-01-05</td>\n",
       "      <td>Afghanistan</td>\n",
       "      <td>Moyen Orient</td>\n",
       "      <td>0</td>\n",
       "      <td></td>\n",
       "      <td>37171.921</td>\n",
       "    </tr>\n",
       "    <tr>\n",
       "      <th>3</th>\n",
       "      <td>2020-01-06</td>\n",
       "      <td>Afghanistan</td>\n",
       "      <td>Moyen Orient</td>\n",
       "      <td>0</td>\n",
       "      <td></td>\n",
       "      <td>37171.921</td>\n",
       "    </tr>\n",
       "    <tr>\n",
       "      <th>4</th>\n",
       "      <td>2020-01-07</td>\n",
       "      <td>Afghanistan</td>\n",
       "      <td>Moyen Orient</td>\n",
       "      <td>0</td>\n",
       "      <td></td>\n",
       "      <td>37171.921</td>\n",
       "    </tr>\n",
       "  </tbody>\n",
       "</table>\n",
       "</div>"
      ],
      "text/plain": [
       "  Date_reported      Country    WHO_region  New_deaths OCDE  \\\n",
       "0    2020-01-03  Afghanistan  Moyen Orient           0        \n",
       "1    2020-01-04  Afghanistan  Moyen Orient           0        \n",
       "2    2020-01-05  Afghanistan  Moyen Orient           0        \n",
       "3    2020-01-06  Afghanistan  Moyen Orient           0        \n",
       "4    2020-01-07  Afghanistan  Moyen Orient           0        \n",
       "\n",
       "   Population (en 000 pers)  \n",
       "0                 37171.921  \n",
       "1                 37171.921  \n",
       "2                 37171.921  \n",
       "3                 37171.921  \n",
       "4                 37171.921  "
      ]
     },
     "execution_count": 21,
     "metadata": {},
     "output_type": "execute_result"
    }
   ],
   "source": [
    "# Ne garder que les colonnes intéressantes\n",
    "df.drop(columns=['Country_code','New_cases','Cumulative_cases','Cumulative_deaths','Area'], inplace=True)\n",
    "df.head()"
   ]
  },
  {
   "cell_type": "code",
   "execution_count": 22,
   "metadata": {},
   "outputs": [
    {
     "data": {
      "text/html": [
       "<div>\n",
       "<style scoped>\n",
       "    .dataframe tbody tr th:only-of-type {\n",
       "        vertical-align: middle;\n",
       "    }\n",
       "\n",
       "    .dataframe tbody tr th {\n",
       "        vertical-align: top;\n",
       "    }\n",
       "\n",
       "    .dataframe thead th {\n",
       "        text-align: right;\n",
       "    }\n",
       "</style>\n",
       "<table border=\"1\" class=\"dataframe\">\n",
       "  <thead>\n",
       "    <tr style=\"text-align: right;\">\n",
       "      <th></th>\n",
       "      <th>Date_reported</th>\n",
       "      <th>Country</th>\n",
       "      <th>WHO_region</th>\n",
       "      <th>New_deaths</th>\n",
       "      <th>OCDE</th>\n",
       "      <th>Population (en 000 pers)</th>\n",
       "      <th>Décès/ million hab</th>\n",
       "    </tr>\n",
       "  </thead>\n",
       "  <tbody>\n",
       "    <tr>\n",
       "      <th>43765</th>\n",
       "      <td>2021-07-21</td>\n",
       "      <td>Ecuador</td>\n",
       "      <td>Amériques</td>\n",
       "      <td>8786</td>\n",
       "      <td></td>\n",
       "      <td>17084.358</td>\n",
       "      <td>514.271593</td>\n",
       "    </tr>\n",
       "    <tr>\n",
       "      <th>94201</th>\n",
       "      <td>2021-08-26</td>\n",
       "      <td>Martinique</td>\n",
       "      <td>Amériques</td>\n",
       "      <td>114</td>\n",
       "      <td></td>\n",
       "      <td>375.673</td>\n",
       "      <td>303.455399</td>\n",
       "    </tr>\n",
       "    <tr>\n",
       "      <th>57982</th>\n",
       "      <td>2021-01-19</td>\n",
       "      <td>Gibraltar</td>\n",
       "      <td>Europe + ex URSS</td>\n",
       "      <td>9</td>\n",
       "      <td></td>\n",
       "      <td>33.718</td>\n",
       "      <td>266.919746</td>\n",
       "    </tr>\n",
       "    <tr>\n",
       "      <th>61090</th>\n",
       "      <td>2021-09-04</td>\n",
       "      <td>Guadeloupe</td>\n",
       "      <td>Amériques</td>\n",
       "      <td>98</td>\n",
       "      <td></td>\n",
       "      <td>399.848</td>\n",
       "      <td>245.093135</td>\n",
       "    </tr>\n",
       "    <tr>\n",
       "      <th>61097</th>\n",
       "      <td>2021-09-11</td>\n",
       "      <td>Guadeloupe</td>\n",
       "      <td>Amériques</td>\n",
       "      <td>89</td>\n",
       "      <td></td>\n",
       "      <td>399.848</td>\n",
       "      <td>222.584582</td>\n",
       "    </tr>\n",
       "  </tbody>\n",
       "</table>\n",
       "</div>"
      ],
      "text/plain": [
       "      Date_reported     Country        WHO_region  New_deaths OCDE  \\\n",
       "43765    2021-07-21     Ecuador         Amériques        8786        \n",
       "94201    2021-08-26  Martinique         Amériques         114        \n",
       "57982    2021-01-19   Gibraltar  Europe + ex URSS           9        \n",
       "61090    2021-09-04  Guadeloupe         Amériques          98        \n",
       "61097    2021-09-11  Guadeloupe         Amériques          89        \n",
       "\n",
       "       Population (en 000 pers)  Décès/ million hab  \n",
       "43765                 17084.358          514.271593  \n",
       "94201                   375.673          303.455399  \n",
       "57982                    33.718          266.919746  \n",
       "61090                   399.848          245.093135  \n",
       "61097                   399.848          222.584582  "
      ]
     },
     "execution_count": 22,
     "metadata": {},
     "output_type": "execute_result"
    }
   ],
   "source": [
    "# Création d'une colonne Décès/ million hab (le but de ce projet !!!!)\n",
    "df['Décès/ million hab']=df['New_deaths']/df['Population (en 000 pers)']*1000\n",
    "df.sort_values(by='Décès/ million hab', ascending=False, inplace=True)\n",
    "df.head()"
   ]
  },
  {
   "cell_type": "code",
   "execution_count": 23,
   "metadata": {},
   "outputs": [],
   "source": [
    "# Download du fichier nettoyé\n",
    "df.to_csv('S1 Covid nettoyé.csv', index=False)"
   ]
  },
  {
   "cell_type": "markdown",
   "metadata": {},
   "source": [
    "# Visualisations"
   ]
  },
  {
   "cell_type": "raw",
   "metadata": {},
   "source": [
    "Ca y est!!! Nous sommes enfin prêts. Voyons ce que ce dataset nous réserve"
   ]
  },
  {
   "cell_type": "markdown",
   "metadata": {},
   "source": [
    "### Décès par million sur toute la pandémie"
   ]
  },
  {
   "cell_type": "code",
   "execution_count": 24,
   "metadata": {},
   "outputs": [
    {
     "data": {
      "text/plain": [
       "Text(0.5, 1.0, \"Décès du Covid dans le monde, par million d'habitants\")"
      ]
     },
     "execution_count": 24,
     "metadata": {},
     "output_type": "execute_result"
    },
    {
     "data": {
      "image/png": "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\n",
      "text/plain": [
       "<Figure size 1008x360 with 1 Axes>"
      ]
     },
     "metadata": {
      "needs_background": "light"
     },
     "output_type": "display_data"
    }
   ],
   "source": [
    "# Grouper par pays, rétablir la colonne pays (qui était devenue index), trier\n",
    "dfGr=df.groupby(['Country']).sum().reset_index()\n",
    "dfGr.sort_values(by='Décès/ million hab', ascending=False, inplace= True)\n",
    "\n",
    "# Représenter les 10 pays les plus endeuillés\n",
    "dfGr[:10].plot.barh('Country','Décès/ million hab',figsize=(14, 5),legend=None).invert_yaxis() #sinon, c'est ascendant\n",
    "plt.title(\"Décès du Covid dans le monde, par million d'habitants\")"
   ]
  },
  {
   "cell_type": "raw",
   "metadata": {},
   "source": [
    "Il ne faisait pas bon vivre au Pérou ou en Europe centrale ces 2 dernières années ...\n",
    "\n",
    "Où sont les pays qui normalement caracolent en tête du classement ? Gardons le Pérou pour donner l'échelle:"
   ]
  },
  {
   "cell_type": "code",
   "execution_count": 25,
   "metadata": {},
   "outputs": [
    {
     "data": {
      "image/png": "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\n",
      "text/plain": [
       "<Figure size 1008x180 with 1 Axes>"
      ]
     },
     "metadata": {
      "needs_background": "light"
     },
     "output_type": "display_data"
    }
   ],
   "source": [
    "# Restreignons à ces pays\n",
    "ListHead = ['Peru','India','Brazil','Russian Federation', 'United States of America']\n",
    "#Ajoutons une colonne 'rang' au df\n",
    "dfGr['Rank'] = dfGr['Décès/ million hab'].rank(ascending=0)\n",
    "\n",
    "Head = dfGr.loc[dfGr['Country'].isin(ListHead)]\n",
    "\n",
    "Head.plot.barh('Country','Décès/ million hab',figsize=(14, 2.5),legend=None).invert_yaxis()"
   ]
  },
  {
   "cell_type": "raw",
   "metadata": {},
   "source": [
    "Dans les média, le classement est \n",
    "1: USA\n",
    "2: Brésil\n",
    "3: Inde\n",
    "(visible ici dans la colonne 'New Deaths')"
   ]
  },
  {
   "cell_type": "code",
   "execution_count": 26,
   "metadata": {},
   "outputs": [
    {
     "data": {
      "text/html": [
       "<div>\n",
       "<style scoped>\n",
       "    .dataframe tbody tr th:only-of-type {\n",
       "        vertical-align: middle;\n",
       "    }\n",
       "\n",
       "    .dataframe tbody tr th {\n",
       "        vertical-align: top;\n",
       "    }\n",
       "\n",
       "    .dataframe thead th {\n",
       "        text-align: right;\n",
       "    }\n",
       "</style>\n",
       "<table border=\"1\" class=\"dataframe\">\n",
       "  <thead>\n",
       "    <tr style=\"text-align: right;\">\n",
       "      <th></th>\n",
       "      <th>Country</th>\n",
       "      <th>New_deaths</th>\n",
       "      <th>Population (en 000 pers)</th>\n",
       "      <th>Décès/ million hab</th>\n",
       "      <th>Rank</th>\n",
       "    </tr>\n",
       "  </thead>\n",
       "  <tbody>\n",
       "    <tr>\n",
       "      <th>163</th>\n",
       "      <td>Peru</td>\n",
       "      <td>202295</td>\n",
       "      <td>2.303227e+07</td>\n",
       "      <td>6323.841189</td>\n",
       "      <td>1.0</td>\n",
       "    </tr>\n",
       "    <tr>\n",
       "      <th>28</th>\n",
       "      <td>Brazil</td>\n",
       "      <td>617873</td>\n",
       "      <td>1.508179e+08</td>\n",
       "      <td>2949.706387</td>\n",
       "      <td>12.0</td>\n",
       "    </tr>\n",
       "    <tr>\n",
       "      <th>226</th>\n",
       "      <td>United States of America</td>\n",
       "      <td>799942</td>\n",
       "      <td>2.355093e+08</td>\n",
       "      <td>2445.585858</td>\n",
       "      <td>21.0</td>\n",
       "    </tr>\n",
       "    <tr>\n",
       "      <th>173</th>\n",
       "      <td>Russian Federation</td>\n",
       "      <td>300269</td>\n",
       "      <td>1.049285e+08</td>\n",
       "      <td>2060.390312</td>\n",
       "      <td>34.0</td>\n",
       "    </tr>\n",
       "    <tr>\n",
       "      <th>96</th>\n",
       "      <td>India</td>\n",
       "      <td>478325</td>\n",
       "      <td>9.739024e+08</td>\n",
       "      <td>353.622689</td>\n",
       "      <td>126.0</td>\n",
       "    </tr>\n",
       "  </tbody>\n",
       "</table>\n",
       "</div>"
      ],
      "text/plain": [
       "                      Country  New_deaths  Population (en 000 pers)  \\\n",
       "163                      Peru      202295              2.303227e+07   \n",
       "28                     Brazil      617873              1.508179e+08   \n",
       "226  United States of America      799942              2.355093e+08   \n",
       "173        Russian Federation      300269              1.049285e+08   \n",
       "96                      India      478325              9.739024e+08   \n",
       "\n",
       "     Décès/ million hab   Rank  \n",
       "163         6323.841189    1.0  \n",
       "28          2949.706387   12.0  \n",
       "226         2445.585858   21.0  \n",
       "173         2060.390312   34.0  \n",
       "96           353.622689  126.0  "
      ]
     },
     "execution_count": 26,
     "metadata": {},
     "output_type": "execute_result"
    }
   ],
   "source": [
    "# Quel est leur rang si on considère le taux de mortalité ? \n",
    "Head"
   ]
  },
  {
   "cell_type": "raw",
   "metadata": {},
   "source": [
    "Très différent...\n",
    "\n",
    "Je tiens à préciser que les épidémiologistes ont de GROS doutes quant à la fiabilité des chiffres indiens. Je ne sais pas trop si les chiffres russes et brésiliens sont beaucoup plus fiables... Et si nous restreignons notre analyse aux pays de l'OCDE? "
   ]
  },
  {
   "cell_type": "markdown",
   "metadata": {},
   "source": [
    "# Visualisation restreinte à l'OCDE"
   ]
  },
  {
   "cell_type": "code",
   "execution_count": 27,
   "metadata": {},
   "outputs": [],
   "source": [
    "# Retreindre à l'OCDE, grouper à nouveau\n",
    "dfOCDE= df.loc[df['OCDE']=='OCDE']\n",
    "dfOGr=dfOCDE.groupby(['Country']).sum().reset_index()\n",
    "dfOGr.sort_values(by='Décès/ million hab', ascending=False, inplace= True)"
   ]
  },
  {
   "cell_type": "code",
   "execution_count": 28,
   "metadata": {},
   "outputs": [
    {
     "data": {
      "text/plain": [
       "Text(0.5, 1.0, \"Décès du Covid dans l'OCDE sur toute la pandémie, par million d'habitants\")"
      ]
     },
     "execution_count": 28,
     "metadata": {},
     "output_type": "execute_result"
    },
    {
     "data": {
      "image/png": "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\n",
      "text/plain": [
       "<Figure size 1080x360 with 1 Axes>"
      ]
     },
     "metadata": {
      "needs_background": "light"
     },
     "output_type": "display_data"
    }
   ],
   "source": [
    "dfOGr[:15].plot.barh('Country','Décès/ million hab',figsize=(15, 5),legend=None).invert_yaxis()\n",
    "plt.title(\"Décès du Covid dans l'OCDE sur toute la pandémie, par million d'habitants\")"
   ]
  },
  {
   "cell_type": "code",
   "execution_count": 29,
   "metadata": {},
   "outputs": [
    {
     "data": {
      "image/png": "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\n",
      "text/plain": [
       "<Figure size 1008x108 with 1 Axes>"
      ]
     },
     "metadata": {
      "needs_background": "light"
     },
     "output_type": "display_data"
    }
   ],
   "source": [
    "# Bonus: classement de la France et de ses voisins\n",
    "FG = ['France', 'Germany', 'The United Kingdom', 'Belgium', 'Italy', 'Spain']\n",
    "\n",
    "dfFG = dfOGr.loc[dfOGr['Country'].isin(FG)]\n",
    "\n",
    "dfFG.plot.barh('Country','Décès/ million hab',figsize=(14, 1.5),legend=None).invert_yaxis()"
   ]
  },
  {
   "cell_type": "raw",
   "metadata": {},
   "source": [
    "Merci de votre attention! Bonne fin de journée.\n",
    "\n",
    "NB: pour ce projet, je n'ai pas eu besoin de faire d'imputations. Ce cas de figure sera traité dans un autre notebook."
   ]
  }
 ],
 "metadata": {
  "kernelspec": {
   "display_name": "Python 3",
   "language": "python",
   "name": "python3"
  },
  "language_info": {
   "codemirror_mode": {
    "name": "ipython",
    "version": 3
   },
   "file_extension": ".py",
   "mimetype": "text/x-python",
   "name": "python",
   "nbconvert_exporter": "python",
   "pygments_lexer": "ipython3",
   "version": "3.8.5"
  },
  "varInspector": {
   "cols": {
    "lenName": 16,
    "lenType": 16,
    "lenVar": 40
   },
   "kernels_config": {
    "python": {
     "delete_cmd_postfix": "",
     "delete_cmd_prefix": "del ",
     "library": "var_list.py",
     "varRefreshCmd": "print(var_dic_list())"
    },
    "r": {
     "delete_cmd_postfix": ") ",
     "delete_cmd_prefix": "rm(",
     "library": "var_list.r",
     "varRefreshCmd": "cat(var_dic_list()) "
    }
   },
   "types_to_exclude": [
    "module",
    "function",
    "builtin_function_or_method",
    "instance",
    "_Feature"
   ],
   "window_display": false
  }
 },
 "nbformat": 4,
 "nbformat_minor": 4
}
